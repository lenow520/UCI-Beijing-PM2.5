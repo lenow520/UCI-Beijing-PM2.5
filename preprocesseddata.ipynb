{
  "nbformat": 4,
  "nbformat_minor": 0,
  "metadata": {
    "colab": {
      "name": "preprocesseddata.ipynb ",
      "provenance": [],
      "collapsed_sections": [],
      "include_colab_link": true
    },
    "kernelspec": {
      "name": "python3",
      "display_name": "Python 3"
    }
  },
  "cells": [
    {
      "cell_type": "markdown",
      "metadata": {
        "id": "view-in-github",
        "colab_type": "text"
      },
      "source": [
        "<a href=\"https://colab.research.google.com/github/lenow520/UCI-Beijing-PM2.5/blob/main/preprocesseddata.ipynb\" target=\"_parent\"><img src=\"https://colab.research.google.com/assets/colab-badge.svg\" alt=\"Open In Colab\"/></a>"
      ]
    },
    {
      "cell_type": "code",
      "metadata": {
        "id": "X0F_lNnYIpT-",
        "colab": {
          "base_uri": "https://localhost:8080/",
          "height": 34
        },
        "outputId": "a988badb-1537-40b2-e1d7-db73e438a7f5"
      },
      "source": [
        "from google.colab import drive\n",
        "drive.mount('/content/drive')"
      ],
      "execution_count": null,
      "outputs": [
        {
          "output_type": "stream",
          "text": [
            "Drive already mounted at /content/drive; to attempt to forcibly remount, call drive.mount(\"/content/drive\", force_remount=True).\n"
          ],
          "name": "stdout"
        }
      ]
    },
    {
      "cell_type": "code",
      "metadata": {
        "id": "2hSEcL4WPKmt",
        "colab": {
          "base_uri": "https://localhost:8080/",
          "height": 358
        },
        "outputId": "46fb6c6d-451f-4955-f7c1-4b932906fa3e"
      },
      "source": [
        "import pandas as pd\n",
        "PRSA=pd.read_csv('/content/drive/My Drive/PRSA_data.csv')\n",
        "PRSA.info()"
      ],
      "execution_count": null,
      "outputs": [
        {
          "output_type": "stream",
          "text": [
            "<class 'pandas.core.frame.DataFrame'>\n",
            "RangeIndex: 43824 entries, 0 to 43823\n",
            "Data columns (total 13 columns):\n",
            " #   Column  Non-Null Count  Dtype  \n",
            "---  ------  --------------  -----  \n",
            " 0   No      43824 non-null  int64  \n",
            " 1   year    43824 non-null  int64  \n",
            " 2   month   43824 non-null  int64  \n",
            " 3   day     43824 non-null  int64  \n",
            " 4   hour    43824 non-null  int64  \n",
            " 5   pm2.5   41757 non-null  float64\n",
            " 6   DEWP    43824 non-null  int64  \n",
            " 7   TEMP    43824 non-null  float64\n",
            " 8   PRES    43824 non-null  float64\n",
            " 9   cbwd    43824 non-null  object \n",
            " 10  Iws     43824 non-null  float64\n",
            " 11  Is      43824 non-null  int64  \n",
            " 12  Ir      43824 non-null  int64  \n",
            "dtypes: float64(4), int64(8), object(1)\n",
            "memory usage: 4.3+ MB\n"
          ],
          "name": "stdout"
        }
      ]
    },
    {
      "cell_type": "code",
      "metadata": {
        "id": "pqUKBIMblV6_",
        "colab": {
          "base_uri": "https://localhost:8080/",
          "height": 405
        },
        "outputId": "34cabf31-dbf3-4f5e-999f-e7df3a4faf73"
      },
      "source": [
        "PRSA['pm2.5'].fillna(PRSA['pm2.5'].mean(),inplace=True)\n",
        "PRSA"
      ],
      "execution_count": null,
      "outputs": [
        {
          "output_type": "execute_result",
          "data": {
            "text/html": [
              "<div>\n",
              "<style scoped>\n",
              "    .dataframe tbody tr th:only-of-type {\n",
              "        vertical-align: middle;\n",
              "    }\n",
              "\n",
              "    .dataframe tbody tr th {\n",
              "        vertical-align: top;\n",
              "    }\n",
              "\n",
              "    .dataframe thead th {\n",
              "        text-align: right;\n",
              "    }\n",
              "</style>\n",
              "<table border=\"1\" class=\"dataframe\">\n",
              "  <thead>\n",
              "    <tr style=\"text-align: right;\">\n",
              "      <th></th>\n",
              "      <th>No</th>\n",
              "      <th>year</th>\n",
              "      <th>month</th>\n",
              "      <th>day</th>\n",
              "      <th>hour</th>\n",
              "      <th>pm2.5</th>\n",
              "      <th>DEWP</th>\n",
              "      <th>TEMP</th>\n",
              "      <th>PRES</th>\n",
              "      <th>cbwd</th>\n",
              "      <th>Iws</th>\n",
              "      <th>Is</th>\n",
              "      <th>Ir</th>\n",
              "    </tr>\n",
              "  </thead>\n",
              "  <tbody>\n",
              "    <tr>\n",
              "      <th>0</th>\n",
              "      <td>1</td>\n",
              "      <td>2010</td>\n",
              "      <td>1</td>\n",
              "      <td>1</td>\n",
              "      <td>0</td>\n",
              "      <td>98.613215</td>\n",
              "      <td>-21</td>\n",
              "      <td>-11.0</td>\n",
              "      <td>1021.0</td>\n",
              "      <td>NW</td>\n",
              "      <td>1.79</td>\n",
              "      <td>0</td>\n",
              "      <td>0</td>\n",
              "    </tr>\n",
              "    <tr>\n",
              "      <th>1</th>\n",
              "      <td>2</td>\n",
              "      <td>2010</td>\n",
              "      <td>1</td>\n",
              "      <td>1</td>\n",
              "      <td>1</td>\n",
              "      <td>98.613215</td>\n",
              "      <td>-21</td>\n",
              "      <td>-12.0</td>\n",
              "      <td>1020.0</td>\n",
              "      <td>NW</td>\n",
              "      <td>4.92</td>\n",
              "      <td>0</td>\n",
              "      <td>0</td>\n",
              "    </tr>\n",
              "    <tr>\n",
              "      <th>2</th>\n",
              "      <td>3</td>\n",
              "      <td>2010</td>\n",
              "      <td>1</td>\n",
              "      <td>1</td>\n",
              "      <td>2</td>\n",
              "      <td>98.613215</td>\n",
              "      <td>-21</td>\n",
              "      <td>-11.0</td>\n",
              "      <td>1019.0</td>\n",
              "      <td>NW</td>\n",
              "      <td>6.71</td>\n",
              "      <td>0</td>\n",
              "      <td>0</td>\n",
              "    </tr>\n",
              "    <tr>\n",
              "      <th>3</th>\n",
              "      <td>4</td>\n",
              "      <td>2010</td>\n",
              "      <td>1</td>\n",
              "      <td>1</td>\n",
              "      <td>3</td>\n",
              "      <td>98.613215</td>\n",
              "      <td>-21</td>\n",
              "      <td>-14.0</td>\n",
              "      <td>1019.0</td>\n",
              "      <td>NW</td>\n",
              "      <td>9.84</td>\n",
              "      <td>0</td>\n",
              "      <td>0</td>\n",
              "    </tr>\n",
              "    <tr>\n",
              "      <th>4</th>\n",
              "      <td>5</td>\n",
              "      <td>2010</td>\n",
              "      <td>1</td>\n",
              "      <td>1</td>\n",
              "      <td>4</td>\n",
              "      <td>98.613215</td>\n",
              "      <td>-20</td>\n",
              "      <td>-12.0</td>\n",
              "      <td>1018.0</td>\n",
              "      <td>NW</td>\n",
              "      <td>12.97</td>\n",
              "      <td>0</td>\n",
              "      <td>0</td>\n",
              "    </tr>\n",
              "    <tr>\n",
              "      <th>...</th>\n",
              "      <td>...</td>\n",
              "      <td>...</td>\n",
              "      <td>...</td>\n",
              "      <td>...</td>\n",
              "      <td>...</td>\n",
              "      <td>...</td>\n",
              "      <td>...</td>\n",
              "      <td>...</td>\n",
              "      <td>...</td>\n",
              "      <td>...</td>\n",
              "      <td>...</td>\n",
              "      <td>...</td>\n",
              "      <td>...</td>\n",
              "    </tr>\n",
              "    <tr>\n",
              "      <th>43819</th>\n",
              "      <td>43820</td>\n",
              "      <td>2014</td>\n",
              "      <td>12</td>\n",
              "      <td>31</td>\n",
              "      <td>19</td>\n",
              "      <td>8.000000</td>\n",
              "      <td>-23</td>\n",
              "      <td>-2.0</td>\n",
              "      <td>1034.0</td>\n",
              "      <td>NW</td>\n",
              "      <td>231.97</td>\n",
              "      <td>0</td>\n",
              "      <td>0</td>\n",
              "    </tr>\n",
              "    <tr>\n",
              "      <th>43820</th>\n",
              "      <td>43821</td>\n",
              "      <td>2014</td>\n",
              "      <td>12</td>\n",
              "      <td>31</td>\n",
              "      <td>20</td>\n",
              "      <td>10.000000</td>\n",
              "      <td>-22</td>\n",
              "      <td>-3.0</td>\n",
              "      <td>1034.0</td>\n",
              "      <td>NW</td>\n",
              "      <td>237.78</td>\n",
              "      <td>0</td>\n",
              "      <td>0</td>\n",
              "    </tr>\n",
              "    <tr>\n",
              "      <th>43821</th>\n",
              "      <td>43822</td>\n",
              "      <td>2014</td>\n",
              "      <td>12</td>\n",
              "      <td>31</td>\n",
              "      <td>21</td>\n",
              "      <td>10.000000</td>\n",
              "      <td>-22</td>\n",
              "      <td>-3.0</td>\n",
              "      <td>1034.0</td>\n",
              "      <td>NW</td>\n",
              "      <td>242.70</td>\n",
              "      <td>0</td>\n",
              "      <td>0</td>\n",
              "    </tr>\n",
              "    <tr>\n",
              "      <th>43822</th>\n",
              "      <td>43823</td>\n",
              "      <td>2014</td>\n",
              "      <td>12</td>\n",
              "      <td>31</td>\n",
              "      <td>22</td>\n",
              "      <td>8.000000</td>\n",
              "      <td>-22</td>\n",
              "      <td>-4.0</td>\n",
              "      <td>1034.0</td>\n",
              "      <td>NW</td>\n",
              "      <td>246.72</td>\n",
              "      <td>0</td>\n",
              "      <td>0</td>\n",
              "    </tr>\n",
              "    <tr>\n",
              "      <th>43823</th>\n",
              "      <td>43824</td>\n",
              "      <td>2014</td>\n",
              "      <td>12</td>\n",
              "      <td>31</td>\n",
              "      <td>23</td>\n",
              "      <td>12.000000</td>\n",
              "      <td>-21</td>\n",
              "      <td>-3.0</td>\n",
              "      <td>1034.0</td>\n",
              "      <td>NW</td>\n",
              "      <td>249.85</td>\n",
              "      <td>0</td>\n",
              "      <td>0</td>\n",
              "    </tr>\n",
              "  </tbody>\n",
              "</table>\n",
              "<p>43824 rows × 13 columns</p>\n",
              "</div>"
            ],
            "text/plain": [
              "          No  year  month  day  hour  ...    PRES  cbwd     Iws  Is Ir\n",
              "0          1  2010      1    1     0  ...  1021.0    NW    1.79   0  0\n",
              "1          2  2010      1    1     1  ...  1020.0    NW    4.92   0  0\n",
              "2          3  2010      1    1     2  ...  1019.0    NW    6.71   0  0\n",
              "3          4  2010      1    1     3  ...  1019.0    NW    9.84   0  0\n",
              "4          5  2010      1    1     4  ...  1018.0    NW   12.97   0  0\n",
              "...      ...   ...    ...  ...   ...  ...     ...   ...     ...  .. ..\n",
              "43819  43820  2014     12   31    19  ...  1034.0    NW  231.97   0  0\n",
              "43820  43821  2014     12   31    20  ...  1034.0    NW  237.78   0  0\n",
              "43821  43822  2014     12   31    21  ...  1034.0    NW  242.70   0  0\n",
              "43822  43823  2014     12   31    22  ...  1034.0    NW  246.72   0  0\n",
              "43823  43824  2014     12   31    23  ...  1034.0    NW  249.85   0  0\n",
              "\n",
              "[43824 rows x 13 columns]"
            ]
          },
          "metadata": {
            "tags": []
          },
          "execution_count": 8
        }
      ]
    },
    {
      "cell_type": "code",
      "metadata": {
        "id": "xNlWtjrQPYEO",
        "colab": {
          "base_uri": "https://localhost:8080/",
          "height": 358
        },
        "outputId": "9e95fd1d-282b-409e-bfec-b301bd758c5e"
      },
      "source": [
        "PRSA['cbwd']=PRSA['cbwd'].astype('category')\n",
        "PRSA.info()"
      ],
      "execution_count": null,
      "outputs": [
        {
          "output_type": "stream",
          "text": [
            "<class 'pandas.core.frame.DataFrame'>\n",
            "RangeIndex: 43824 entries, 0 to 43823\n",
            "Data columns (total 13 columns):\n",
            " #   Column  Non-Null Count  Dtype   \n",
            "---  ------  --------------  -----   \n",
            " 0   No      43824 non-null  int64   \n",
            " 1   year    43824 non-null  int64   \n",
            " 2   month   43824 non-null  int64   \n",
            " 3   day     43824 non-null  int64   \n",
            " 4   hour    43824 non-null  int64   \n",
            " 5   pm2.5   43824 non-null  float64 \n",
            " 6   DEWP    43824 non-null  int64   \n",
            " 7   TEMP    43824 non-null  float64 \n",
            " 8   PRES    43824 non-null  float64 \n",
            " 9   cbwd    43824 non-null  category\n",
            " 10  Iws     43824 non-null  float64 \n",
            " 11  Is      43824 non-null  int64   \n",
            " 12  Ir      43824 non-null  int64   \n",
            "dtypes: category(1), float64(4), int64(8)\n",
            "memory usage: 4.1 MB\n"
          ],
          "name": "stdout"
        }
      ]
    },
    {
      "cell_type": "code",
      "metadata": {
        "id": "05HVJ8o_Lz1q"
      },
      "source": [
        "PRSA = PRSA.drop(['No'],axis=1)"
      ],
      "execution_count": null,
      "outputs": []
    },
    {
      "cell_type": "code",
      "metadata": {
        "id": "Ni_YCv5KPbhs",
        "colab": {
          "base_uri": "https://localhost:8080/",
          "height": 293
        },
        "outputId": "5e24d44f-17bf-4a4e-efca-c32a3de27ec0"
      },
      "source": [
        "PRSA['cbwd'].value_counts().plot(kind='bar')"
      ],
      "execution_count": null,
      "outputs": [
        {
          "output_type": "execute_result",
          "data": {
            "text/plain": [
              "<matplotlib.axes._subplots.AxesSubplot at 0x7eff1416d588>"
            ]
          },
          "metadata": {
            "tags": []
          },
          "execution_count": 11
        },
        {
          "output_type": "display_data",
          "data": {
            "image/png": "[encoded data removed]",
            "text/plain": [
              "<Figure size 432x288 with 1 Axes>"
            ]
          },
          "metadata": {
            "tags": [],
            "needs_background": "light"
          }
        }
      ]
    },
    {
      "cell_type": "code",
      "metadata": {
        "id": "TBx7PohBn9UB",
        "colab": {
          "base_uri": "https://localhost:8080/",
          "height": 405
        },
        "outputId": "bb4307a0-884d-4ba4-d081-ad2e2761457c"
      },
      "source": [
        "from sklearn.preprocessing import LabelEncoder\n",
        "le = LabelEncoder()\n",
        "PRSA['cbwd']=le.fit_transform(PRSA['cbwd'])\n",
        "PRSA"
      ],
      "execution_count": null,
      "outputs": [
        {
          "output_type": "execute_result",
          "data": {
            "text/html": [
              "<div>\n",
              "<style scoped>\n",
              "    .dataframe tbody tr th:only-of-type {\n",
              "        vertical-align: middle;\n",
              "    }\n",
              "\n",
              "    .dataframe tbody tr th {\n",
              "        vertical-align: top;\n",
              "    }\n",
              "\n",
              "    .dataframe thead th {\n",
              "        text-align: right;\n",
              "    }\n",
              "</style>\n",
              "<table border=\"1\" class=\"dataframe\">\n",
              "  <thead>\n",
              "    <tr style=\"text-align: right;\">\n",
              "      <th></th>\n",
              "      <th>year</th>\n",
              "      <th>month</th>\n",
              "      <th>day</th>\n",
              "      <th>hour</th>\n",
              "      <th>pm2.5</th>\n",
              "      <th>DEWP</th>\n",
              "      <th>TEMP</th>\n",
              "      <th>PRES</th>\n",
              "      <th>cbwd</th>\n",
              "      <th>Iws</th>\n",
              "      <th>Is</th>\n",
              "      <th>Ir</th>\n",
              "    </tr>\n",
              "  </thead>\n",
              "  <tbody>\n",
              "    <tr>\n",
              "      <th>0</th>\n",
              "      <td>2010</td>\n",
              "      <td>1</td>\n",
              "      <td>1</td>\n",
              "      <td>0</td>\n",
              "      <td>98.613215</td>\n",
              "      <td>-21</td>\n",
              "      <td>-11.0</td>\n",
              "      <td>1021.0</td>\n",
              "      <td>1</td>\n",
              "      <td>1.79</td>\n",
              "      <td>0</td>\n",
              "      <td>0</td>\n",
              "    </tr>\n",
              "    <tr>\n",
              "      <th>1</th>\n",
              "      <td>2010</td>\n",
              "      <td>1</td>\n",
              "      <td>1</td>\n",
              "      <td>1</td>\n",
              "      <td>98.613215</td>\n",
              "      <td>-21</td>\n",
              "      <td>-12.0</td>\n",
              "      <td>1020.0</td>\n",
              "      <td>1</td>\n",
              "      <td>4.92</td>\n",
              "      <td>0</td>\n",
              "      <td>0</td>\n",
              "    </tr>\n",
              "    <tr>\n",
              "      <th>2</th>\n",
              "      <td>2010</td>\n",
              "      <td>1</td>\n",
              "      <td>1</td>\n",
              "      <td>2</td>\n",
              "      <td>98.613215</td>\n",
              "      <td>-21</td>\n",
              "      <td>-11.0</td>\n",
              "      <td>1019.0</td>\n",
              "      <td>1</td>\n",
              "      <td>6.71</td>\n",
              "      <td>0</td>\n",
              "      <td>0</td>\n",
              "    </tr>\n",
              "    <tr>\n",
              "      <th>3</th>\n",
              "      <td>2010</td>\n",
              "      <td>1</td>\n",
              "      <td>1</td>\n",
              "      <td>3</td>\n",
              "      <td>98.613215</td>\n",
              "      <td>-21</td>\n",
              "      <td>-14.0</td>\n",
              "      <td>1019.0</td>\n",
              "      <td>1</td>\n",
              "      <td>9.84</td>\n",
              "      <td>0</td>\n",
              "      <td>0</td>\n",
              "    </tr>\n",
              "    <tr>\n",
              "      <th>4</th>\n",
              "      <td>2010</td>\n",
              "      <td>1</td>\n",
              "      <td>1</td>\n",
              "      <td>4</td>\n",
              "      <td>98.613215</td>\n",
              "      <td>-20</td>\n",
              "      <td>-12.0</td>\n",
              "      <td>1018.0</td>\n",
              "      <td>1</td>\n",
              "      <td>12.97</td>\n",
              "      <td>0</td>\n",
              "      <td>0</td>\n",
              "    </tr>\n",
              "    <tr>\n",
              "      <th>...</th>\n",
              "      <td>...</td>\n",
              "      <td>...</td>\n",
              "      <td>...</td>\n",
              "      <td>...</td>\n",
              "      <td>...</td>\n",
              "      <td>...</td>\n",
              "      <td>...</td>\n",
              "      <td>...</td>\n",
              "      <td>...</td>\n",
              "      <td>...</td>\n",
              "      <td>...</td>\n",
              "      <td>...</td>\n",
              "    </tr>\n",
              "    <tr>\n",
              "      <th>43819</th>\n",
              "      <td>2014</td>\n",
              "      <td>12</td>\n",
              "      <td>31</td>\n",
              "      <td>19</td>\n",
              "      <td>8.000000</td>\n",
              "      <td>-23</td>\n",
              "      <td>-2.0</td>\n",
              "      <td>1034.0</td>\n",
              "      <td>1</td>\n",
              "      <td>231.97</td>\n",
              "      <td>0</td>\n",
              "      <td>0</td>\n",
              "    </tr>\n",
              "    <tr>\n",
              "      <th>43820</th>\n",
              "      <td>2014</td>\n",
              "      <td>12</td>\n",
              "      <td>31</td>\n",
              "      <td>20</td>\n",
              "      <td>10.000000</td>\n",
              "      <td>-22</td>\n",
              "      <td>-3.0</td>\n",
              "      <td>1034.0</td>\n",
              "      <td>1</td>\n",
              "      <td>237.78</td>\n",
              "      <td>0</td>\n",
              "      <td>0</td>\n",
              "    </tr>\n",
              "    <tr>\n",
              "      <th>43821</th>\n",
              "      <td>2014</td>\n",
              "      <td>12</td>\n",
              "      <td>31</td>\n",
              "      <td>21</td>\n",
              "      <td>10.000000</td>\n",
              "      <td>-22</td>\n",
              "      <td>-3.0</td>\n",
              "      <td>1034.0</td>\n",
              "      <td>1</td>\n",
              "      <td>242.70</td>\n",
              "      <td>0</td>\n",
              "      <td>0</td>\n",
              "    </tr>\n",
              "    <tr>\n",
              "      <th>43822</th>\n",
              "      <td>2014</td>\n",
              "      <td>12</td>\n",
              "      <td>31</td>\n",
              "      <td>22</td>\n",
              "      <td>8.000000</td>\n",
              "      <td>-22</td>\n",
              "      <td>-4.0</td>\n",
              "      <td>1034.0</td>\n",
              "      <td>1</td>\n",
              "      <td>246.72</td>\n",
              "      <td>0</td>\n",
              "      <td>0</td>\n",
              "    </tr>\n",
              "    <tr>\n",
              "      <th>43823</th>\n",
              "      <td>2014</td>\n",
              "      <td>12</td>\n",
              "      <td>31</td>\n",
              "      <td>23</td>\n",
              "      <td>12.000000</td>\n",
              "      <td>-21</td>\n",
              "      <td>-3.0</td>\n",
              "      <td>1034.0</td>\n",
              "      <td>1</td>\n",
              "      <td>249.85</td>\n",
              "      <td>0</td>\n",
              "      <td>0</td>\n",
              "    </tr>\n",
              "  </tbody>\n",
              "</table>\n",
              "<p>43824 rows × 12 columns</p>\n",
              "</div>"
            ],
            "text/plain": [
              "       year  month  day  hour      pm2.5  ...    PRES  cbwd     Iws  Is  Ir\n",
              "0      2010      1    1     0  98.613215  ...  1021.0     1    1.79   0   0\n",
              "1      2010      1    1     1  98.613215  ...  1020.0     1    4.92   0   0\n",
              "2      2010      1    1     2  98.613215  ...  1019.0     1    6.71   0   0\n",
              "3      2010      1    1     3  98.613215  ...  1019.0     1    9.84   0   0\n",
              "4      2010      1    1     4  98.613215  ...  1018.0     1   12.97   0   0\n",
              "...     ...    ...  ...   ...        ...  ...     ...   ...     ...  ..  ..\n",
              "43819  2014     12   31    19   8.000000  ...  1034.0     1  231.97   0   0\n",
              "43820  2014     12   31    20  10.000000  ...  1034.0     1  237.78   0   0\n",
              "43821  2014     12   31    21  10.000000  ...  1034.0     1  242.70   0   0\n",
              "43822  2014     12   31    22   8.000000  ...  1034.0     1  246.72   0   0\n",
              "43823  2014     12   31    23  12.000000  ...  1034.0     1  249.85   0   0\n",
              "\n",
              "[43824 rows x 12 columns]"
            ]
          },
          "metadata": {
            "tags": []
          },
          "execution_count": 12
        }
      ]
    },
    {
      "cell_type": "code",
      "metadata": {
        "id": "82KkvJGFPbkc",
        "colab": {
          "base_uri": "https://localhost:8080/",
          "height": 828
        },
        "outputId": "6b99eb1e-143e-4a24-f790-01a9a3d87147"
      },
      "source": [
        "PRSA.hist(figsize=(10,10))"
      ],
      "execution_count": null,
      "outputs": [
        {
          "output_type": "execute_result",
          "data": {
            "text/plain": [
              "array([[<matplotlib.axes._subplots.AxesSubplot object at 0x7eff0912f940>,\n",
              "        <matplotlib.axes._subplots.AxesSubplot object at 0x7eff08eaac18>,\n",
              "        <matplotlib.axes._subplots.AxesSubplot object at 0x7eff08e60e80>],\n",
              "       [<matplotlib.axes._subplots.AxesSubplot object at 0x7eff08e23128>,\n",
              "        <matplotlib.axes._subplots.AxesSubplot object at 0x7eff08e55390>,\n",
              "        <matplotlib.axes._subplots.AxesSubplot object at 0x7eff08e085f8>],\n",
              "       [<matplotlib.axes._subplots.AxesSubplot object at 0x7eff08dbc860>,\n",
              "        <matplotlib.axes._subplots.AxesSubplot object at 0x7eff08d72a90>,\n",
              "        <matplotlib.axes._subplots.AxesSubplot object at 0x7eff08d72b00>],\n",
              "       [<matplotlib.axes._subplots.AxesSubplot object at 0x7eff08cd9f98>,\n",
              "        <matplotlib.axes._subplots.AxesSubplot object at 0x7eff08c9a240>,\n",
              "        <matplotlib.axes._subplots.AxesSubplot object at 0x7eff08ccd4a8>]],\n",
              "      dtype=object)"
            ]
          },
          "metadata": {
            "tags": []
          },
          "execution_count": 13
        },
        {
          "output_type": "display_data",
          "data": {
            "image/png": "[encoded data removed]",
            "text/plain": [
              "<Figure size 720x720 with 12 Axes>"
            ]
          },
          "metadata": {
            "tags": [],
            "needs_background": "light"
          }
        }
      ]
    },
    {
      "cell_type": "code",
      "metadata": {
        "id": "6oA366Y5PbnK",
        "colab": {
          "base_uri": "https://localhost:8080/",
          "height": 599
        },
        "outputId": "64b583ae-2cdd-4603-bdbd-193418bb562f"
      },
      "source": [
        "import seaborn as sns\n",
        "#Correlations between numeric features\n",
        "cor=PRSA.corr()\n",
        "print(cor)\n",
        "#Plot heatmap\n",
        "sns.heatmap(cor)"
      ],
      "execution_count": null,
      "outputs": [
        {
          "output_type": "stream",
          "text": [
            "/usr/local/lib/python3.6/dist-packages/statsmodels/tools/_testing.py:19: FutureWarning: pandas.util.testing is deprecated. Use the functions in the public API at pandas.testing instead.\n",
            "  import pandas.util.testing as tm\n"
          ],
          "name": "stderr"
        },
        {
          "output_type": "stream",
          "text": [
            "               year         month           day  ...       Iws        Is        Ir\n",
            "year   1.000000e+00 -3.575502e-16 -1.663879e-16  ... -0.064244 -0.017002 -0.024383\n",
            "month -3.575502e-16  1.000000e+00  1.079604e-02  ...  0.003043 -0.061672  0.036737\n",
            "day   -1.663879e-16  1.079604e-02  1.000000e+00  ... -0.008954 -0.036826  0.002681\n",
            "hour   0.000000e+00 -1.528210e-17 -4.046030e-19  ...  0.056618 -0.002374 -0.006286\n",
            "pm2.5 -1.435446e-02 -2.353263e-02  8.068495e-02  ... -0.239969  0.019263 -0.050224\n",
            "DEWP   1.121574e-03  2.339746e-01  2.855899e-02  ... -0.296399 -0.034410  0.125090\n",
            "TEMP   4.552854e-02  1.700926e-01  1.479104e-02  ... -0.154623 -0.092601  0.049121\n",
            "PRES  -1.257001e-02 -6.218507e-02 -7.070048e-03  ...  0.185355  0.069028 -0.079843\n",
            "cbwd   3.745945e-02  1.378450e-02  1.494449e-02  ... -0.199964  0.010372 -0.048276\n",
            "Iws   -6.424368e-02  3.043299e-03 -8.953566e-03  ...  1.000000  0.021883 -0.010122\n",
            "Is    -1.700207e-02 -6.167206e-02 -3.682638e-02  ...  0.021883  1.000000 -0.009548\n",
            "Ir    -2.438290e-02  3.673715e-02  2.681328e-03  ... -0.010122 -0.009548  1.000000\n",
            "\n",
            "[12 rows x 12 columns]\n"
          ],
          "name": "stdout"
        },
        {
          "output_type": "execute_result",
          "data": {
            "text/plain": [
              "<matplotlib.axes._subplots.AxesSubplot at 0x7eff07d4ceb8>"
            ]
          },
          "metadata": {
            "tags": []
          },
          "execution_count": 14
        },
        {
          "output_type": "display_data",
          "data": {
            "image/png": "[encoded data removed]",
            "text/plain": [
              "<Figure size 432x288 with 2 Axes>"
            ]
          },
          "metadata": {
            "tags": [],
            "needs_background": "light"
          }
        }
      ]
    },
    {
      "cell_type": "code",
      "metadata": {
        "id": "VPesVeLRPbxG",
        "colab": {
          "base_uri": "https://localhost:8080/",
          "height": 314
        },
        "outputId": "9d6b9afc-ddc3-474c-f929-0d47ba69fd91"
      },
      "source": [
        "PRSA.hist(column='pm2.5')"
      ],
      "execution_count": null,
      "outputs": [
        {
          "output_type": "execute_result",
          "data": {
            "text/plain": [
              "array([[<matplotlib.axes._subplots.AxesSubplot object at 0x7eff04251390>]],\n",
              "      dtype=object)"
            ]
          },
          "metadata": {
            "tags": []
          },
          "execution_count": 15
        },
        {
          "output_type": "display_data",
          "data": {
            "image/png": "[encoded data removed]",
            "text/plain": [
              "<Figure size 432x288 with 1 Axes>"
            ]
          },
          "metadata": {
            "tags": [],
            "needs_background": "light"
          }
        }
      ]
    },
    {
      "cell_type": "code",
      "metadata": {
        "id": "xc-jRybmPbz1",
        "colab": {
          "base_uri": "https://localhost:8080/",
          "height": 136
        },
        "outputId": "049b6706-1c46-4ac2-d92e-2b02c06c94b7"
      },
      "source": [
        "bins = [-1, 35, 75, 115, 150, 250, 994]\n",
        "\n",
        "x25 = pd.cut(PRSA['pm2.5'], bins,labels=['excellent', 'good', 'light', 'moderate','heavy', 'severe']) \n",
        "print(pd.value_counts(x25))"
      ],
      "execution_count": null,
      "outputs": [
        {
          "output_type": "stream",
          "text": [
            "excellent    12120\n",
            "good          9391\n",
            "light         9189\n",
            "heavy         5938\n",
            "moderate      4133\n",
            "severe        3053\n",
            "Name: pm2.5, dtype: int64\n"
          ],
          "name": "stdout"
        }
      ]
    },
    {
      "cell_type": "code",
      "metadata": {
        "id": "-aS2jNjkPb21",
        "colab": {
          "base_uri": "https://localhost:8080/",
          "height": 609
        },
        "outputId": "0b449d5f-9899-4074-b157-85c44b4a4362"
      },
      "source": [
        "x25.hist(figsize=(15,10))"
      ],
      "execution_count": null,
      "outputs": [
        {
          "output_type": "execute_result",
          "data": {
            "text/plain": [
              "<matplotlib.axes._subplots.AxesSubplot at 0x7eff04175d68>"
            ]
          },
          "metadata": {
            "tags": []
          },
          "execution_count": 17
        },
        {
          "output_type": "display_data",
          "data": {
            "image/png": "[encoded data removed]",
            "text/plain": [
              "<Figure size 1080x720 with 1 Axes>"
            ]
          },
          "metadata": {
            "tags": [],
            "needs_background": "light"
          }
        }
      ]
    },
    {
      "cell_type": "code",
      "metadata": {
        "id": "iu5zpPz9Pb5W"
      },
      "source": [
        "import pandas as pd\n",
        "from sklearn.preprocessing import StandardScaler\n",
        "features = ['year','month','day','hour','DEWP','TEMP','PRES','cbwd','Iws','Is','Ir']\n",
        "# Separating out the features\n",
        "x = PRSA.loc[:, features].values\n",
        "# Standardizing the features\n",
        "x = StandardScaler().fit_transform(x)"
      ],
      "execution_count": null,
      "outputs": []
    },
    {
      "cell_type": "code",
      "metadata": {
        "id": "fHugwj-ePbu3",
        "colab": {
          "base_uri": "https://localhost:8080/",
          "height": 405
        },
        "outputId": "ff763046-4cd5-452c-f663-6380c1651259"
      },
      "source": [
        "from sklearn.decomposition import PCA\n",
        "pca = PCA(n_components=5)\n",
        "model = pca.fit_transform(x)\n",
        "df = pd.DataFrame(data = model, columns = ['pc1','pc2','pc3','pc4','pc5'])\n",
        "pcaPRSA = pd.concat([df, x25], axis = 1)\n",
        "pcaPRSA"
      ],
      "execution_count": null,
      "outputs": [
        {
          "output_type": "execute_result",
          "data": {
            "text/html": [
              "<div>\n",
              "<style scoped>\n",
              "    .dataframe tbody tr th:only-of-type {\n",
              "        vertical-align: middle;\n",
              "    }\n",
              "\n",
              "    .dataframe tbody tr th {\n",
              "        vertical-align: top;\n",
              "    }\n",
              "\n",
              "    .dataframe thead th {\n",
              "        text-align: right;\n",
              "    }\n",
              "</style>\n",
              "<table border=\"1\" class=\"dataframe\">\n",
              "  <thead>\n",
              "    <tr style=\"text-align: right;\">\n",
              "      <th></th>\n",
              "      <th>pc1</th>\n",
              "      <th>pc2</th>\n",
              "      <th>pc3</th>\n",
              "      <th>pc4</th>\n",
              "      <th>pc5</th>\n",
              "      <th>pm2.5</th>\n",
              "    </tr>\n",
              "  </thead>\n",
              "  <tbody>\n",
              "    <tr>\n",
              "      <th>0</th>\n",
              "      <td>2.598846</td>\n",
              "      <td>-0.285351</td>\n",
              "      <td>1.311834</td>\n",
              "      <td>1.831254</td>\n",
              "      <td>-0.128347</td>\n",
              "      <td>light</td>\n",
              "    </tr>\n",
              "    <tr>\n",
              "      <th>1</th>\n",
              "      <td>2.597481</td>\n",
              "      <td>-0.261059</td>\n",
              "      <td>1.174145</td>\n",
              "      <td>1.819382</td>\n",
              "      <td>-0.127197</td>\n",
              "      <td>light</td>\n",
              "    </tr>\n",
              "    <tr>\n",
              "      <th>2</th>\n",
              "      <td>2.501010</td>\n",
              "      <td>-0.233274</td>\n",
              "      <td>1.023517</td>\n",
              "      <td>1.808456</td>\n",
              "      <td>-0.131548</td>\n",
              "      <td>light</td>\n",
              "    </tr>\n",
              "    <tr>\n",
              "      <th>3</th>\n",
              "      <td>2.640743</td>\n",
              "      <td>-0.232071</td>\n",
              "      <td>0.913658</td>\n",
              "      <td>1.787180</td>\n",
              "      <td>-0.123383</td>\n",
              "      <td>light</td>\n",
              "    </tr>\n",
              "    <tr>\n",
              "      <th>4</th>\n",
              "      <td>2.466917</td>\n",
              "      <td>-0.179059</td>\n",
              "      <td>0.746513</td>\n",
              "      <td>1.781178</td>\n",
              "      <td>-0.132565</td>\n",
              "      <td>light</td>\n",
              "    </tr>\n",
              "    <tr>\n",
              "      <th>...</th>\n",
              "      <td>...</td>\n",
              "      <td>...</td>\n",
              "      <td>...</td>\n",
              "      <td>...</td>\n",
              "      <td>...</td>\n",
              "      <td>...</td>\n",
              "    </tr>\n",
              "    <tr>\n",
              "      <th>43819</th>\n",
              "      <td>3.159105</td>\n",
              "      <td>2.133706</td>\n",
              "      <td>-1.899996</td>\n",
              "      <td>-2.441212</td>\n",
              "      <td>-0.355178</td>\n",
              "      <td>excellent</td>\n",
              "    </tr>\n",
              "    <tr>\n",
              "      <th>43820</th>\n",
              "      <td>3.182369</td>\n",
              "      <td>2.181305</td>\n",
              "      <td>-2.048795</td>\n",
              "      <td>-2.458122</td>\n",
              "      <td>-0.358060</td>\n",
              "      <td>excellent</td>\n",
              "    </tr>\n",
              "    <tr>\n",
              "      <th>43821</th>\n",
              "      <td>3.195392</td>\n",
              "      <td>2.224468</td>\n",
              "      <td>-2.208220</td>\n",
              "      <td>-2.479927</td>\n",
              "      <td>-0.364698</td>\n",
              "      <td>excellent</td>\n",
              "    </tr>\n",
              "    <tr>\n",
              "      <th>43822</th>\n",
              "      <td>3.249379</td>\n",
              "      <td>2.250713</td>\n",
              "      <td>-2.348715</td>\n",
              "      <td>-2.501401</td>\n",
              "      <td>-0.365879</td>\n",
              "      <td>excellent</td>\n",
              "    </tr>\n",
              "    <tr>\n",
              "      <th>43823</th>\n",
              "      <td>3.171910</td>\n",
              "      <td>2.288856</td>\n",
              "      <td>-2.499817</td>\n",
              "      <td>-2.516677</td>\n",
              "      <td>-0.371950</td>\n",
              "      <td>excellent</td>\n",
              "    </tr>\n",
              "  </tbody>\n",
              "</table>\n",
              "<p>43824 rows × 6 columns</p>\n",
              "</div>"
            ],
            "text/plain": [
              "            pc1       pc2       pc3       pc4       pc5      pm2.5\n",
              "0      2.598846 -0.285351  1.311834  1.831254 -0.128347      light\n",
              "1      2.597481 -0.261059  1.174145  1.819382 -0.127197      light\n",
              "2      2.501010 -0.233274  1.023517  1.808456 -0.131548      light\n",
              "3      2.640743 -0.232071  0.913658  1.787180 -0.123383      light\n",
              "4      2.466917 -0.179059  0.746513  1.781178 -0.132565      light\n",
              "...         ...       ...       ...       ...       ...        ...\n",
              "43819  3.159105  2.133706 -1.899996 -2.441212 -0.355178  excellent\n",
              "43820  3.182369  2.181305 -2.048795 -2.458122 -0.358060  excellent\n",
              "43821  3.195392  2.224468 -2.208220 -2.479927 -0.364698  excellent\n",
              "43822  3.249379  2.250713 -2.348715 -2.501401 -0.365879  excellent\n",
              "43823  3.171910  2.288856 -2.499817 -2.516677 -0.371950  excellent\n",
              "\n",
              "[43824 rows x 6 columns]"
            ]
          },
          "metadata": {
            "tags": []
          },
          "execution_count": 19
        }
      ]
    },
    {
      "cell_type": "code",
      "metadata": {
        "id": "6DU5qjogquXU",
        "colab": {
          "base_uri": "https://localhost:8080/",
          "height": 405
        },
        "outputId": "6eb0a8c0-d72e-440b-b00a-af7277efc94c"
      },
      "source": [
        "from sklearn.preprocessing import StandardScaler\n",
        "col_names=['DEWP','TEMP','PRES','Iws','Is','Ir']\n",
        "scaler=StandardScaler().fit(PRSA[col_names].values)\n",
        "PRSA[col_names]=scaler.transform(PRSA[col_names].values)\n",
        "PRSA"
      ],
      "execution_count": null,
      "outputs": [
        {
          "output_type": "execute_result",
          "data": {
            "text/html": [
              "<div>\n",
              "<style scoped>\n",
              "    .dataframe tbody tr th:only-of-type {\n",
              "        vertical-align: middle;\n",
              "    }\n",
              "\n",
              "    .dataframe tbody tr th {\n",
              "        vertical-align: top;\n",
              "    }\n",
              "\n",
              "    .dataframe thead th {\n",
              "        text-align: right;\n",
              "    }\n",
              "</style>\n",
              "<table border=\"1\" class=\"dataframe\">\n",
              "  <thead>\n",
              "    <tr style=\"text-align: right;\">\n",
              "      <th></th>\n",
              "      <th>year</th>\n",
              "      <th>month</th>\n",
              "      <th>day</th>\n",
              "      <th>hour</th>\n",
              "      <th>pm2.5</th>\n",
              "      <th>DEWP</th>\n",
              "      <th>TEMP</th>\n",
              "      <th>PRES</th>\n",
              "      <th>cbwd</th>\n",
              "      <th>Iws</th>\n",
              "      <th>Is</th>\n",
              "      <th>Ir</th>\n",
              "    </tr>\n",
              "  </thead>\n",
              "  <tbody>\n",
              "    <tr>\n",
              "      <th>0</th>\n",
              "      <td>2010</td>\n",
              "      <td>1</td>\n",
              "      <td>1</td>\n",
              "      <td>0</td>\n",
              "      <td>98.613215</td>\n",
              "      <td>-1.580878</td>\n",
              "      <td>-1.922250</td>\n",
              "      <td>0.443328</td>\n",
              "      <td>1</td>\n",
              "      <td>-0.441894</td>\n",
              "      <td>-0.069353</td>\n",
              "      <td>-0.137667</td>\n",
              "    </tr>\n",
              "    <tr>\n",
              "      <th>1</th>\n",
              "      <td>2010</td>\n",
              "      <td>1</td>\n",
              "      <td>1</td>\n",
              "      <td>1</td>\n",
              "      <td>98.613215</td>\n",
              "      <td>-1.580878</td>\n",
              "      <td>-2.004228</td>\n",
              "      <td>0.345943</td>\n",
              "      <td>1</td>\n",
              "      <td>-0.379306</td>\n",
              "      <td>-0.069353</td>\n",
              "      <td>-0.137667</td>\n",
              "    </tr>\n",
              "    <tr>\n",
              "      <th>2</th>\n",
              "      <td>2010</td>\n",
              "      <td>1</td>\n",
              "      <td>1</td>\n",
              "      <td>2</td>\n",
              "      <td>98.613215</td>\n",
              "      <td>-1.580878</td>\n",
              "      <td>-1.922250</td>\n",
              "      <td>0.248559</td>\n",
              "      <td>1</td>\n",
              "      <td>-0.343514</td>\n",
              "      <td>-0.069353</td>\n",
              "      <td>-0.137667</td>\n",
              "    </tr>\n",
              "    <tr>\n",
              "      <th>3</th>\n",
              "      <td>2010</td>\n",
              "      <td>1</td>\n",
              "      <td>1</td>\n",
              "      <td>3</td>\n",
              "      <td>98.613215</td>\n",
              "      <td>-1.580878</td>\n",
              "      <td>-2.168183</td>\n",
              "      <td>0.248559</td>\n",
              "      <td>1</td>\n",
              "      <td>-0.280926</td>\n",
              "      <td>-0.069353</td>\n",
              "      <td>-0.137667</td>\n",
              "    </tr>\n",
              "    <tr>\n",
              "      <th>4</th>\n",
              "      <td>2010</td>\n",
              "      <td>1</td>\n",
              "      <td>1</td>\n",
              "      <td>4</td>\n",
              "      <td>98.613215</td>\n",
              "      <td>-1.511594</td>\n",
              "      <td>-2.004228</td>\n",
              "      <td>0.151174</td>\n",
              "      <td>1</td>\n",
              "      <td>-0.218339</td>\n",
              "      <td>-0.069353</td>\n",
              "      <td>-0.137667</td>\n",
              "    </tr>\n",
              "    <tr>\n",
              "      <th>...</th>\n",
              "      <td>...</td>\n",
              "      <td>...</td>\n",
              "      <td>...</td>\n",
              "      <td>...</td>\n",
              "      <td>...</td>\n",
              "      <td>...</td>\n",
              "      <td>...</td>\n",
              "      <td>...</td>\n",
              "      <td>...</td>\n",
              "      <td>...</td>\n",
              "      <td>...</td>\n",
              "      <td>...</td>\n",
              "    </tr>\n",
              "    <tr>\n",
              "      <th>43819</th>\n",
              "      <td>2014</td>\n",
              "      <td>12</td>\n",
              "      <td>31</td>\n",
              "      <td>19</td>\n",
              "      <td>8.000000</td>\n",
              "      <td>-1.719447</td>\n",
              "      <td>-1.184453</td>\n",
              "      <td>1.709325</td>\n",
              "      <td>1</td>\n",
              "      <td>4.160780</td>\n",
              "      <td>-0.069353</td>\n",
              "      <td>-0.137667</td>\n",
              "    </tr>\n",
              "    <tr>\n",
              "      <th>43820</th>\n",
              "      <td>2014</td>\n",
              "      <td>12</td>\n",
              "      <td>31</td>\n",
              "      <td>20</td>\n",
              "      <td>10.000000</td>\n",
              "      <td>-1.650162</td>\n",
              "      <td>-1.266431</td>\n",
              "      <td>1.709325</td>\n",
              "      <td>1</td>\n",
              "      <td>4.276956</td>\n",
              "      <td>-0.069353</td>\n",
              "      <td>-0.137667</td>\n",
              "    </tr>\n",
              "    <tr>\n",
              "      <th>43821</th>\n",
              "      <td>2014</td>\n",
              "      <td>12</td>\n",
              "      <td>31</td>\n",
              "      <td>21</td>\n",
              "      <td>10.000000</td>\n",
              "      <td>-1.650162</td>\n",
              "      <td>-1.266431</td>\n",
              "      <td>1.709325</td>\n",
              "      <td>1</td>\n",
              "      <td>4.375337</td>\n",
              "      <td>-0.069353</td>\n",
              "      <td>-0.137667</td>\n",
              "    </tr>\n",
              "    <tr>\n",
              "      <th>43822</th>\n",
              "      <td>2014</td>\n",
              "      <td>12</td>\n",
              "      <td>31</td>\n",
              "      <td>22</td>\n",
              "      <td>8.000000</td>\n",
              "      <td>-1.650162</td>\n",
              "      <td>-1.348408</td>\n",
              "      <td>1.709325</td>\n",
              "      <td>1</td>\n",
              "      <td>4.455720</td>\n",
              "      <td>-0.069353</td>\n",
              "      <td>-0.137667</td>\n",
              "    </tr>\n",
              "    <tr>\n",
              "      <th>43823</th>\n",
              "      <td>2014</td>\n",
              "      <td>12</td>\n",
              "      <td>31</td>\n",
              "      <td>23</td>\n",
              "      <td>12.000000</td>\n",
              "      <td>-1.580878</td>\n",
              "      <td>-1.266431</td>\n",
              "      <td>1.709325</td>\n",
              "      <td>1</td>\n",
              "      <td>4.518308</td>\n",
              "      <td>-0.069353</td>\n",
              "      <td>-0.137667</td>\n",
              "    </tr>\n",
              "  </tbody>\n",
              "</table>\n",
              "<p>43824 rows × 12 columns</p>\n",
              "</div>"
            ],
            "text/plain": [
              "       year  month  day  hour  ...  cbwd       Iws        Is        Ir\n",
              "0      2010      1    1     0  ...     1 -0.441894 -0.069353 -0.137667\n",
              "1      2010      1    1     1  ...     1 -0.379306 -0.069353 -0.137667\n",
              "2      2010      1    1     2  ...     1 -0.343514 -0.069353 -0.137667\n",
              "3      2010      1    1     3  ...     1 -0.280926 -0.069353 -0.137667\n",
              "4      2010      1    1     4  ...     1 -0.218339 -0.069353 -0.137667\n",
              "...     ...    ...  ...   ...  ...   ...       ...       ...       ...\n",
              "43819  2014     12   31    19  ...     1  4.160780 -0.069353 -0.137667\n",
              "43820  2014     12   31    20  ...     1  4.276956 -0.069353 -0.137667\n",
              "43821  2014     12   31    21  ...     1  4.375337 -0.069353 -0.137667\n",
              "43822  2014     12   31    22  ...     1  4.455720 -0.069353 -0.137667\n",
              "43823  2014     12   31    23  ...     1  4.518308 -0.069353 -0.137667\n",
              "\n",
              "[43824 rows x 12 columns]"
            ]
          },
          "metadata": {
            "tags": []
          },
          "execution_count": 20
        }
      ]
    },
    {
      "cell_type": "code",
      "metadata": {
        "id": "bASl99Osq9uX",
        "colab": {
          "base_uri": "https://localhost:8080/",
          "height": 405
        },
        "outputId": "ff67c58a-4de7-43f3-c443-cc6f64931f69"
      },
      "source": [
        "from sklearn.preprocessing import Normalizer\n",
        "col_names=['pm2.5','DEWP','TEMP','PRES','Iws','Is','Ir']\n",
        "features=PRSA[col_names]\n",
        "normalizer=Normalizer(norm='max')\n",
        "features=normalizer.transform(features.values)\n",
        "PRSA[col_names]=features\n",
        "PRSA"
      ],
      "execution_count": null,
      "outputs": [
        {
          "output_type": "execute_result",
          "data": {
            "text/html": [
              "<div>\n",
              "<style scoped>\n",
              "    .dataframe tbody tr th:only-of-type {\n",
              "        vertical-align: middle;\n",
              "    }\n",
              "\n",
              "    .dataframe tbody tr th {\n",
              "        vertical-align: top;\n",
              "    }\n",
              "\n",
              "    .dataframe thead th {\n",
              "        text-align: right;\n",
              "    }\n",
              "</style>\n",
              "<table border=\"1\" class=\"dataframe\">\n",
              "  <thead>\n",
              "    <tr style=\"text-align: right;\">\n",
              "      <th></th>\n",
              "      <th>year</th>\n",
              "      <th>month</th>\n",
              "      <th>day</th>\n",
              "      <th>hour</th>\n",
              "      <th>pm2.5</th>\n",
              "      <th>DEWP</th>\n",
              "      <th>TEMP</th>\n",
              "      <th>PRES</th>\n",
              "      <th>cbwd</th>\n",
              "      <th>Iws</th>\n",
              "      <th>Is</th>\n",
              "      <th>Ir</th>\n",
              "    </tr>\n",
              "  </thead>\n",
              "  <tbody>\n",
              "    <tr>\n",
              "      <th>0</th>\n",
              "      <td>2010</td>\n",
              "      <td>1</td>\n",
              "      <td>1</td>\n",
              "      <td>0</td>\n",
              "      <td>1.0</td>\n",
              "      <td>-0.016031</td>\n",
              "      <td>-0.019493</td>\n",
              "      <td>0.004496</td>\n",
              "      <td>1</td>\n",
              "      <td>-0.004481</td>\n",
              "      <td>-0.000703</td>\n",
              "      <td>-0.001396</td>\n",
              "    </tr>\n",
              "    <tr>\n",
              "      <th>1</th>\n",
              "      <td>2010</td>\n",
              "      <td>1</td>\n",
              "      <td>1</td>\n",
              "      <td>1</td>\n",
              "      <td>1.0</td>\n",
              "      <td>-0.016031</td>\n",
              "      <td>-0.020324</td>\n",
              "      <td>0.003508</td>\n",
              "      <td>1</td>\n",
              "      <td>-0.003846</td>\n",
              "      <td>-0.000703</td>\n",
              "      <td>-0.001396</td>\n",
              "    </tr>\n",
              "    <tr>\n",
              "      <th>2</th>\n",
              "      <td>2010</td>\n",
              "      <td>1</td>\n",
              "      <td>1</td>\n",
              "      <td>2</td>\n",
              "      <td>1.0</td>\n",
              "      <td>-0.016031</td>\n",
              "      <td>-0.019493</td>\n",
              "      <td>0.002521</td>\n",
              "      <td>1</td>\n",
              "      <td>-0.003483</td>\n",
              "      <td>-0.000703</td>\n",
              "      <td>-0.001396</td>\n",
              "    </tr>\n",
              "    <tr>\n",
              "      <th>3</th>\n",
              "      <td>2010</td>\n",
              "      <td>1</td>\n",
              "      <td>1</td>\n",
              "      <td>3</td>\n",
              "      <td>1.0</td>\n",
              "      <td>-0.016031</td>\n",
              "      <td>-0.021987</td>\n",
              "      <td>0.002521</td>\n",
              "      <td>1</td>\n",
              "      <td>-0.002849</td>\n",
              "      <td>-0.000703</td>\n",
              "      <td>-0.001396</td>\n",
              "    </tr>\n",
              "    <tr>\n",
              "      <th>4</th>\n",
              "      <td>2010</td>\n",
              "      <td>1</td>\n",
              "      <td>1</td>\n",
              "      <td>4</td>\n",
              "      <td>1.0</td>\n",
              "      <td>-0.015329</td>\n",
              "      <td>-0.020324</td>\n",
              "      <td>0.001533</td>\n",
              "      <td>1</td>\n",
              "      <td>-0.002214</td>\n",
              "      <td>-0.000703</td>\n",
              "      <td>-0.001396</td>\n",
              "    </tr>\n",
              "    <tr>\n",
              "      <th>...</th>\n",
              "      <td>...</td>\n",
              "      <td>...</td>\n",
              "      <td>...</td>\n",
              "      <td>...</td>\n",
              "      <td>...</td>\n",
              "      <td>...</td>\n",
              "      <td>...</td>\n",
              "      <td>...</td>\n",
              "      <td>...</td>\n",
              "      <td>...</td>\n",
              "      <td>...</td>\n",
              "      <td>...</td>\n",
              "    </tr>\n",
              "    <tr>\n",
              "      <th>43819</th>\n",
              "      <td>2014</td>\n",
              "      <td>12</td>\n",
              "      <td>31</td>\n",
              "      <td>19</td>\n",
              "      <td>1.0</td>\n",
              "      <td>-0.214931</td>\n",
              "      <td>-0.148057</td>\n",
              "      <td>0.213666</td>\n",
              "      <td>1</td>\n",
              "      <td>0.520097</td>\n",
              "      <td>-0.008669</td>\n",
              "      <td>-0.017208</td>\n",
              "    </tr>\n",
              "    <tr>\n",
              "      <th>43820</th>\n",
              "      <td>2014</td>\n",
              "      <td>12</td>\n",
              "      <td>31</td>\n",
              "      <td>20</td>\n",
              "      <td>1.0</td>\n",
              "      <td>-0.165016</td>\n",
              "      <td>-0.126643</td>\n",
              "      <td>0.170933</td>\n",
              "      <td>1</td>\n",
              "      <td>0.427696</td>\n",
              "      <td>-0.006935</td>\n",
              "      <td>-0.013767</td>\n",
              "    </tr>\n",
              "    <tr>\n",
              "      <th>43821</th>\n",
              "      <td>2014</td>\n",
              "      <td>12</td>\n",
              "      <td>31</td>\n",
              "      <td>21</td>\n",
              "      <td>1.0</td>\n",
              "      <td>-0.165016</td>\n",
              "      <td>-0.126643</td>\n",
              "      <td>0.170933</td>\n",
              "      <td>1</td>\n",
              "      <td>0.437534</td>\n",
              "      <td>-0.006935</td>\n",
              "      <td>-0.013767</td>\n",
              "    </tr>\n",
              "    <tr>\n",
              "      <th>43822</th>\n",
              "      <td>2014</td>\n",
              "      <td>12</td>\n",
              "      <td>31</td>\n",
              "      <td>22</td>\n",
              "      <td>1.0</td>\n",
              "      <td>-0.206270</td>\n",
              "      <td>-0.168551</td>\n",
              "      <td>0.213666</td>\n",
              "      <td>1</td>\n",
              "      <td>0.556965</td>\n",
              "      <td>-0.008669</td>\n",
              "      <td>-0.017208</td>\n",
              "    </tr>\n",
              "    <tr>\n",
              "      <th>43823</th>\n",
              "      <td>2014</td>\n",
              "      <td>12</td>\n",
              "      <td>31</td>\n",
              "      <td>23</td>\n",
              "      <td>1.0</td>\n",
              "      <td>-0.131740</td>\n",
              "      <td>-0.105536</td>\n",
              "      <td>0.142444</td>\n",
              "      <td>1</td>\n",
              "      <td>0.376526</td>\n",
              "      <td>-0.005779</td>\n",
              "      <td>-0.011472</td>\n",
              "    </tr>\n",
              "  </tbody>\n",
              "</table>\n",
              "<p>43824 rows × 12 columns</p>\n",
              "</div>"
            ],
            "text/plain": [
              "       year  month  day  hour  ...  cbwd       Iws        Is        Ir\n",
              "0      2010      1    1     0  ...     1 -0.004481 -0.000703 -0.001396\n",
              "1      2010      1    1     1  ...     1 -0.003846 -0.000703 -0.001396\n",
              "2      2010      1    1     2  ...     1 -0.003483 -0.000703 -0.001396\n",
              "3      2010      1    1     3  ...     1 -0.002849 -0.000703 -0.001396\n",
              "4      2010      1    1     4  ...     1 -0.002214 -0.000703 -0.001396\n",
              "...     ...    ...  ...   ...  ...   ...       ...       ...       ...\n",
              "43819  2014     12   31    19  ...     1  0.520097 -0.008669 -0.017208\n",
              "43820  2014     12   31    20  ...     1  0.427696 -0.006935 -0.013767\n",
              "43821  2014     12   31    21  ...     1  0.437534 -0.006935 -0.013767\n",
              "43822  2014     12   31    22  ...     1  0.556965 -0.008669 -0.017208\n",
              "43823  2014     12   31    23  ...     1  0.376526 -0.005779 -0.011472\n",
              "\n",
              "[43824 rows x 12 columns]"
            ]
          },
          "metadata": {
            "tags": []
          },
          "execution_count": 21
        }
      ]
    },
    {
      "cell_type": "code",
      "metadata": {
        "id": "BEN0paMOO4E4",
        "colab": {
          "base_uri": "https://localhost:8080/",
          "height": 34
        },
        "outputId": "cbe56027-2178-4eac-baca-6e3bc26817b4"
      },
      "source": [
        "x25.isnull().sum()"
      ],
      "execution_count": null,
      "outputs": [
        {
          "output_type": "execute_result",
          "data": {
            "text/plain": [
              "0"
            ]
          },
          "metadata": {
            "tags": []
          },
          "execution_count": 22
        }
      ]
    },
    {
      "cell_type": "code",
      "metadata": {
        "id": "GDlOobIYROnV",
        "colab": {
          "base_uri": "https://localhost:8080/",
          "height": 256
        },
        "outputId": "6560e3e3-2c86-43b4-8cc2-5952177e7fb9"
      },
      "source": [
        "import pandas as pd\n",
        "from sklearn.feature_selection import SelectKBest\n",
        "from sklearn.feature_selection import f_classif\n",
        "#split data into train and test sets\n",
        "X=PRSA.drop(['pm2.5'],axis=1)\n",
        "y=x25\n",
        "X_new=SelectKBest(f_classif,k=5).fit_transform(X,y)\n",
        "print(X_new.shape)\n",
        "print(X_new)"
      ],
      "execution_count": null,
      "outputs": [
        {
          "output_type": "stream",
          "text": [
            "(43824, 5)\n",
            "[[-1.60310958e-02  4.49562107e-03  1.00000000e+00 -4.48108144e-03\n",
            "  -7.03282953e-04]\n",
            " [-1.60310958e-02  3.50808161e-03  1.00000000e+00 -3.84640582e-03\n",
            "  -7.03282953e-04]\n",
            " [-1.60310958e-02  2.52054215e-03  1.00000000e+00 -3.48344437e-03\n",
            "  -7.03282953e-04]\n",
            " ...\n",
            " [-1.65016223e-01  1.70932538e-01  1.00000000e+00  4.37533654e-01\n",
            "  -6.93529928e-03]\n",
            " [-2.06270279e-01  2.13665672e-01  1.00000000e+00  5.56965044e-01\n",
            "  -8.66912409e-03]\n",
            " [-1.31739824e-01  1.42443781e-01  1.00000000e+00  3.76525646e-01\n",
            "  -5.77941606e-03]]\n"
          ],
          "name": "stdout"
        }
      ]
    },
    {
      "cell_type": "code",
      "metadata": {
        "id": "vhNCFO3gSxXK",
        "colab": {
          "base_uri": "https://localhost:8080/",
          "height": 68
        },
        "outputId": "742203c7-8978-495a-be56-aefe29179af2"
      },
      "source": [
        "import pandas as pd\n",
        "import numpy as np\n",
        "from sklearn.ensemble import ExtraTreesClassifier\n",
        "#split data into train and test sets\n",
        "X=PRSA.drop(['pm2.5'],axis=1)\n",
        "y=x25\n",
        "\n",
        "clf=ExtraTreesClassifier()\n",
        "clf=clf.fit(X,y) #fit model\n",
        "clf.feature_importances_ #important value for each attributes"
      ],
      "execution_count": null,
      "outputs": [
        {
          "output_type": "execute_result",
          "data": {
            "text/plain": [
              "array([0.01934265, 0.04063099, 0.03254844, 0.02421513, 0.13046185,\n",
              "       0.10043217, 0.09011319, 0.03608019, 0.14232959, 0.23916115,\n",
              "       0.14468466])"
            ]
          },
          "metadata": {
            "tags": []
          },
          "execution_count": 24
        }
      ]
    },
    {
      "cell_type": "code",
      "metadata": {
        "id": "1f3-y8ityv92",
        "colab": {
          "base_uri": "https://localhost:8080/",
          "height": 153
        },
        "outputId": "fa3c4d33-c680-4bc9-ded5-54f7b6d9c7b3"
      },
      "source": [
        "from sklearn.feature_selection import SelectFromModel\n",
        "model=SelectFromModel(clf,prefit=True)\n",
        "X_new=model.transform(X)\n",
        "print(X_new.shape)\n",
        "print(X_new)"
      ],
      "execution_count": null,
      "outputs": [
        {
          "output_type": "stream",
          "text": [
            "(43824, 5)\n",
            "[[-0.0160311  -0.01949283 -0.00448108 -0.00070328 -0.00139603]\n",
            " [-0.0160311  -0.02032413 -0.00384641 -0.00070328 -0.00139603]\n",
            " [-0.0160311  -0.01949283 -0.00348344 -0.00070328 -0.00139603]\n",
            " ...\n",
            " [-0.16501622 -0.12664307  0.43753365 -0.0069353  -0.01376671]\n",
            " [-0.20627028 -0.16855102  0.55696504 -0.00866912 -0.01720839]\n",
            " [-0.13173982 -0.10553589  0.37652565 -0.00577942 -0.01147226]]\n"
          ],
          "name": "stdout"
        }
      ]
    },
    {
      "cell_type": "code",
      "metadata": {
        "id": "ZFMJAj5tzXdS",
        "colab": {
          "base_uri": "https://localhost:8080/",
          "height": 887
        },
        "outputId": "11da6ee1-d605-4a60-de53-34d8b9324ba7"
      },
      "source": [
        "import pandas as pd\n",
        "from sklearn.model_selection import train_test_split\n",
        "#split data into train and test sets\n",
        "X=PRSA.drop(['pm2.5'],axis=1)\n",
        "\n",
        "X_train,X_test,y_train,y_test=train_test_split(X,y,test_size=0.2,random_state=100)\n",
        "list1=[X_train,X_test,y_train,y_test]\n",
        "print(list1)"
      ],
      "execution_count": null,
      "outputs": [
        {
          "output_type": "stream",
          "text": [
            "[       year  month  day  hour  ...  cbwd       Iws        Is        Ir\n",
            "36709  2014      3   10    13  ...     2 -0.004464 -0.000701 -0.001391\n",
            "14327  2011      8   20    23  ...     2 -0.007753 -0.001217 -0.002415\n",
            "18119  2012      1   25    23  ...     3 -0.002948 -0.000445 -0.000882\n",
            "15430  2011     10    5    22  ...     0 -0.004029 -0.000703 -0.001396\n",
            "23970  2012      9   25    18  ...     0 -0.019963 -0.003650  0.104274\n",
            "...     ...    ...  ...   ...  ...   ...       ...       ...       ...\n",
            "16304  2011     11   11     8  ...     1 -0.004070 -0.000680 -0.001350\n",
            "79     2010      1    4     7  ...     1  0.034380 -0.002391 -0.004747\n",
            "12119  2011      5   20    23  ...     2 -0.007094 -0.002569 -0.005099\n",
            "14147  2011      8   13    11  ...     2  0.000431 -0.000506 -0.001005\n",
            "38408  2014      5   20     8  ...     0 -0.002838 -0.001926 -0.003824\n",
            "\n",
            "[35059 rows x 11 columns],        year  month  day  hour  ...  cbwd       Iws        Is        Ir\n",
            "39812  2014      7   17    20  ...     3 -0.002541 -0.000433 -0.000860\n",
            "29742  2013      5   24     6  ...     1 -0.001797 -0.000300 -0.000596\n",
            "24121  2012     10    2     1  ...     1 -0.004419 -0.000694 -0.001377\n",
            "20281  2012      4   25     1  ...     1  0.097146 -0.006305 -0.012515\n",
            "5334   2010      8   11     6  ...     2 -0.002629 -0.000694 -0.001377\n",
            "...     ...    ...  ...   ...  ...   ...       ...       ...       ...\n",
            "17025  2011     12   11     9  ...     1 -0.002256 -0.000385 -0.000765\n",
            "41309  2014      9   18     5  ...     1 -0.003381 -0.000701 -0.001391\n",
            "3550   2010      5   28    22  ...     2 -0.002039 -0.000373 -0.000740\n",
            "9311   2011      1   23    23  ...     1  0.309046 -0.004624 -0.009178\n",
            "5694   2010      8   26     6  ...     1 -0.002807 -0.000856 -0.001700\n",
            "\n",
            "[8765 rows x 11 columns], 36709        light\n",
            "14327         good\n",
            "18119        heavy\n",
            "15430        light\n",
            "23970    excellent\n",
            "           ...    \n",
            "16304        light\n",
            "79       excellent\n",
            "12119    excellent\n",
            "14147     moderate\n",
            "38408         good\n",
            "Name: pm2.5, Length: 35059, dtype: category\n",
            "Categories (6, object): [excellent < good < light < moderate < heavy < severe], 39812        heavy\n",
            "29742        heavy\n",
            "24121        light\n",
            "20281    excellent\n",
            "5334         light\n",
            "           ...    \n",
            "17025        heavy\n",
            "41309        light\n",
            "3550         heavy\n",
            "9311     excellent\n",
            "5694         light\n",
            "Name: pm2.5, Length: 8765, dtype: category\n",
            "Categories (6, object): [excellent < good < light < moderate < heavy < severe]]\n"
          ],
          "name": "stdout"
        }
      ]
    }
  ]
}