{
  "nbformat": 4,
  "nbformat_minor": 0,
  "metadata": {
    "colab": {
      "name": "preprocesseddata.ipynb ",
      "provenance": [],
      "collapsed_sections": [],
      "include_colab_link": true
    },
    "kernelspec": {
      "name": "python3",
      "display_name": "Python 3"
    }
  },
  "cells": [
    {
      "cell_type": "markdown",
      "metadata": {
        "id": "view-in-github",
        "colab_type": "text"
      },
      "source": [
        "<a href=\"https://colab.research.google.com/github/lenow520/UCI-Beijing-PM2.5/blob/main/preprocesseddata.ipynb\" target=\"_parent\"><img src=\"https://colab.research.google.com/assets/colab-badge.svg\" alt=\"Open In Colab\"/></a>"
      ]
    },
    {
      "cell_type": "markdown",
      "metadata": {
        "id": "rmAK-i26Y8Dw"
      },
      "source": [
        "## Import dataset"
      ]
    },
    {
      "cell_type": "code",
      "metadata": {
        "id": "X0F_lNnYIpT-",
        "colab": {
          "base_uri": "https://localhost:8080/"
        },
        "outputId": "1dd17eae-2da8-4a5c-e2bc-8ea8c6519117"
      },
      "source": [
        "from google.colab import drive\n",
        "drive.mount('/content/drive')"
      ],
      "execution_count": 176,
      "outputs": [
        {
          "output_type": "stream",
          "text": [
            "Drive already mounted at /content/drive; to attempt to forcibly remount, call drive.mount(\"/content/drive\", force_remount=True).\n"
          ],
          "name": "stdout"
        }
      ]
    },
    {
      "cell_type": "code",
      "metadata": {
        "id": "2hSEcL4WPKmt",
        "colab": {
          "base_uri": "https://localhost:8080/"
        },
        "outputId": "24176ed9-1f69-40a0-f26f-c227d8472514"
      },
      "source": [
        "import pandas as pd\n",
        "PRSA=pd.read_csv('/content/drive/My Drive/PRSA_data.csv')\n",
        "PRSA.info()"
      ],
      "execution_count": 177,
      "outputs": [
        {
          "output_type": "stream",
          "text": [
            "<class 'pandas.core.frame.DataFrame'>\n",
            "RangeIndex: 43824 entries, 0 to 43823\n",
            "Data columns (total 13 columns):\n",
            " #   Column  Non-Null Count  Dtype  \n",
            "---  ------  --------------  -----  \n",
            " 0   No      43824 non-null  int64  \n",
            " 1   year    43824 non-null  int64  \n",
            " 2   month   43824 non-null  int64  \n",
            " 3   day     43824 non-null  int64  \n",
            " 4   hour    43824 non-null  int64  \n",
            " 5   pm2.5   41757 non-null  float64\n",
            " 6   DEWP    43824 non-null  int64  \n",
            " 7   TEMP    43824 non-null  float64\n",
            " 8   PRES    43824 non-null  float64\n",
            " 9   cbwd    43824 non-null  object \n",
            " 10  Iws     43824 non-null  float64\n",
            " 11  Is      43824 non-null  int64  \n",
            " 12  Ir      43824 non-null  int64  \n",
            "dtypes: float64(4), int64(8), object(1)\n",
            "memory usage: 4.3+ MB\n"
          ],
          "name": "stdout"
        }
      ]
    },
    {
      "cell_type": "markdown",
      "metadata": {
        "id": "NCz_lj7fZY2Q"
      },
      "source": [
        "## Plot diagrams showing the features"
      ]
    },
    {
      "cell_type": "code",
      "metadata": {
        "id": "Ni_YCv5KPbhs",
        "colab": {
          "base_uri": "https://localhost:8080/",
          "height": 0
        },
        "outputId": "cf36db23-08c7-42d5-9473-8b32c7c1c8c6"
      },
      "source": [
        "PRSA['cbwd'].value_counts().plot(kind='bar')"
      ],
      "execution_count": 178,
      "outputs": [
        {
          "output_type": "execute_result",
          "data": {
            "text/plain": [
              "<matplotlib.axes._subplots.AxesSubplot at 0x7f38d797bfd0>"
            ]
          },
          "metadata": {
            "tags": []
          },
          "execution_count": 178
        },
        {
          "output_type": "display_data",
          "data": {
            "image/png": "[encoded data removed]",
            "text/plain": [
              "<Figure size 432x288 with 1 Axes>"
            ]
          },
          "metadata": {
            "tags": [],
            "needs_background": "light"
          }
        }
      ]
    },
    {
      "cell_type": "code",
      "metadata": {
        "id": "82KkvJGFPbkc",
        "colab": {
          "base_uri": "https://localhost:8080/",
          "height": 0
        },
        "outputId": "daa0c268-e918-45cd-8408-706f736915d2"
      },
      "source": [
        "PRSA.hist(figsize=(10,10))"
      ],
      "execution_count": 179,
      "outputs": [
        {
          "output_type": "execute_result",
          "data": {
            "text/plain": [
              "array([[<matplotlib.axes._subplots.AxesSubplot object at 0x7f38d702d780>,\n",
              "        <matplotlib.axes._subplots.AxesSubplot object at 0x7f38d704ec18>,\n",
              "        <matplotlib.axes._subplots.AxesSubplot object at 0x7f38d7005e80>],\n",
              "       [<matplotlib.axes._subplots.AxesSubplot object at 0x7f38d6fc4128>,\n",
              "        <matplotlib.axes._subplots.AxesSubplot object at 0x7f38d6f76390>,\n",
              "        <matplotlib.axes._subplots.AxesSubplot object at 0x7f38d6f2a5f8>],\n",
              "       [<matplotlib.axes._subplots.AxesSubplot object at 0x7f38d6edd860>,\n",
              "        <matplotlib.axes._subplots.AxesSubplot object at 0x7f38d6f11a90>,\n",
              "        <matplotlib.axes._subplots.AxesSubplot object at 0x7f38d6f11b00>],\n",
              "       [<matplotlib.axes._subplots.AxesSubplot object at 0x7f38d6e7cf98>,\n",
              "        <matplotlib.axes._subplots.AxesSubplot object at 0x7f38d6e3b240>,\n",
              "        <matplotlib.axes._subplots.AxesSubplot object at 0x7f38d6dee4a8>]],\n",
              "      dtype=object)"
            ]
          },
          "metadata": {
            "tags": []
          },
          "execution_count": 179
        },
        {
          "output_type": "display_data",
          "data": {
            "image/png": "[encoded data removed]",
            "text/plain": [
              "<Figure size 720x720 with 12 Axes>"
            ]
          },
          "metadata": {
            "tags": [],
            "needs_background": "light"
          }
        }
      ]
    },
    {
      "cell_type": "code",
      "metadata": {
        "id": "6oA366Y5PbnK",
        "colab": {
          "base_uri": "https://localhost:8080/",
          "height": 0
        },
        "outputId": "5ec8b95d-eb2c-4c54-f3f3-753d2232a4a0"
      },
      "source": [
        "import seaborn as sns\n",
        "#Correlations between numeric features\n",
        "cor=PRSA.corr()\n",
        "print(cor)\n",
        "#Plot heatmap\n",
        "sns.heatmap(cor)"
      ],
      "execution_count": 180,
      "outputs": [
        {
          "output_type": "stream",
          "text": [
            "             No          year         month  ...       Iws        Is        Ir\n",
            "No     1.000000  9.797958e-01  1.993007e-01  ... -0.062427 -0.029464 -0.016563\n",
            "year   0.979796  1.000000e+00 -3.575502e-16  ... -0.064244 -0.017002 -0.024383\n",
            "month  0.199301 -3.575502e-16  1.000000e+00  ...  0.003043 -0.061672  0.036737\n",
            "day    0.018808 -1.663879e-16  1.079604e-02  ... -0.008954 -0.036826  0.002681\n",
            "hour   0.000547  0.000000e+00 -1.528210e-17  ...  0.056618 -0.002374 -0.006286\n",
            "pm2.5 -0.017706 -1.469020e-02 -2.406878e-02  ... -0.247784  0.019266 -0.051369\n",
            "DEWP   0.047668  1.121574e-03  2.339746e-01  ... -0.296399 -0.034410  0.125090\n",
            "TEMP   0.078159  4.552854e-02  1.700926e-01  ... -0.154623 -0.092601  0.049121\n",
            "PRES  -0.024224 -1.257001e-02 -6.218507e-02  ...  0.185355  0.069028 -0.079843\n",
            "Iws   -0.062427 -6.424368e-02  3.043299e-03  ...  1.000000  0.021883 -0.010122\n",
            "Is    -0.029464 -1.700207e-02 -6.167206e-02  ...  0.021883  1.000000 -0.009548\n",
            "Ir    -0.016563 -2.438290e-02  3.673715e-02  ... -0.010122 -0.009548  1.000000\n",
            "\n",
            "[12 rows x 12 columns]\n"
          ],
          "name": "stdout"
        },
        {
          "output_type": "execute_result",
          "data": {
            "text/plain": [
              "<matplotlib.axes._subplots.AxesSubplot at 0x7f38d6be77b8>"
            ]
          },
          "metadata": {
            "tags": []
          },
          "execution_count": 180
        },
        {
          "output_type": "display_data",
          "data": {
            "image/png": "[encoded data removed]",
            "text/plain": [
              "<Figure size 432x288 with 2 Axes>"
            ]
          },
          "metadata": {
            "tags": [],
            "needs_background": "light"
          }
        }
      ]
    },
    {
      "cell_type": "code",
      "metadata": {
        "id": "VPesVeLRPbxG",
        "colab": {
          "base_uri": "https://localhost:8080/",
          "height": 0
        },
        "outputId": "0f32e461-1b34-4447-d42f-4a6cb23907b8"
      },
      "source": [
        "#the diagram showing the pm2.5 distribution\r\n",
        "PRSA.hist(column='pm2.5') "
      ],
      "execution_count": 181,
      "outputs": [
        {
          "output_type": "execute_result",
          "data": {
            "text/plain": [
              "array([[<matplotlib.axes._subplots.AxesSubplot object at 0x7f38d739ab00>]],\n",
              "      dtype=object)"
            ]
          },
          "metadata": {
            "tags": []
          },
          "execution_count": 181
        },
        {
          "output_type": "display_data",
          "data": {
            "image/png": "[encoded data removed]",
            "text/plain": [
              "<Figure size 432x288 with 1 Axes>"
            ]
          },
          "metadata": {
            "tags": [],
            "needs_background": "light"
          }
        }
      ]
    },
    {
      "cell_type": "markdown",
      "metadata": {
        "id": "Y3swFP18Ziv9"
      },
      "source": [
        ""
      ]
    },
    {
      "cell_type": "markdown",
      "metadata": {
        "id": "Dq16VxW0ZAnH"
      },
      "source": [
        "## Data preprocessing"
      ]
    },
    {
      "cell_type": "code",
      "metadata": {
        "id": "pqUKBIMblV6_",
        "colab": {
          "base_uri": "https://localhost:8080/",
          "height": 404
        },
        "outputId": "3b082e57-ba0f-483d-e96a-60bf0c41baa6"
      },
      "source": [
        "PRSA['pm2.5'].fillna(PRSA['pm2.5'].mean(),inplace=True)\n",
        "PRSA"
      ],
      "execution_count": 182,
      "outputs": [
        {
          "output_type": "execute_result",
          "data": {
            "text/html": [
              "<div>\n",
              "<style scoped>\n",
              "    .dataframe tbody tr th:only-of-type {\n",
              "        vertical-align: middle;\n",
              "    }\n",
              "\n",
              "    .dataframe tbody tr th {\n",
              "        vertical-align: top;\n",
              "    }\n",
              "\n",
              "    .dataframe thead th {\n",
              "        text-align: right;\n",
              "    }\n",
              "</style>\n",
              "<table border=\"1\" class=\"dataframe\">\n",
              "  <thead>\n",
              "    <tr style=\"text-align: right;\">\n",
              "      <th></th>\n",
              "      <th>No</th>\n",
              "      <th>year</th>\n",
              "      <th>month</th>\n",
              "      <th>day</th>\n",
              "      <th>hour</th>\n",
              "      <th>pm2.5</th>\n",
              "      <th>DEWP</th>\n",
              "      <th>TEMP</th>\n",
              "      <th>PRES</th>\n",
              "      <th>cbwd</th>\n",
              "      <th>Iws</th>\n",
              "      <th>Is</th>\n",
              "      <th>Ir</th>\n",
              "    </tr>\n",
              "  </thead>\n",
              "  <tbody>\n",
              "    <tr>\n",
              "      <th>0</th>\n",
              "      <td>1</td>\n",
              "      <td>2010</td>\n",
              "      <td>1</td>\n",
              "      <td>1</td>\n",
              "      <td>0</td>\n",
              "      <td>98.613215</td>\n",
              "      <td>-21</td>\n",
              "      <td>-11.0</td>\n",
              "      <td>1021.0</td>\n",
              "      <td>NW</td>\n",
              "      <td>1.79</td>\n",
              "      <td>0</td>\n",
              "      <td>0</td>\n",
              "    </tr>\n",
              "    <tr>\n",
              "      <th>1</th>\n",
              "      <td>2</td>\n",
              "      <td>2010</td>\n",
              "      <td>1</td>\n",
              "      <td>1</td>\n",
              "      <td>1</td>\n",
              "      <td>98.613215</td>\n",
              "      <td>-21</td>\n",
              "      <td>-12.0</td>\n",
              "      <td>1020.0</td>\n",
              "      <td>NW</td>\n",
              "      <td>4.92</td>\n",
              "      <td>0</td>\n",
              "      <td>0</td>\n",
              "    </tr>\n",
              "    <tr>\n",
              "      <th>2</th>\n",
              "      <td>3</td>\n",
              "      <td>2010</td>\n",
              "      <td>1</td>\n",
              "      <td>1</td>\n",
              "      <td>2</td>\n",
              "      <td>98.613215</td>\n",
              "      <td>-21</td>\n",
              "      <td>-11.0</td>\n",
              "      <td>1019.0</td>\n",
              "      <td>NW</td>\n",
              "      <td>6.71</td>\n",
              "      <td>0</td>\n",
              "      <td>0</td>\n",
              "    </tr>\n",
              "    <tr>\n",
              "      <th>3</th>\n",
              "      <td>4</td>\n",
              "      <td>2010</td>\n",
              "      <td>1</td>\n",
              "      <td>1</td>\n",
              "      <td>3</td>\n",
              "      <td>98.613215</td>\n",
              "      <td>-21</td>\n",
              "      <td>-14.0</td>\n",
              "      <td>1019.0</td>\n",
              "      <td>NW</td>\n",
              "      <td>9.84</td>\n",
              "      <td>0</td>\n",
              "      <td>0</td>\n",
              "    </tr>\n",
              "    <tr>\n",
              "      <th>4</th>\n",
              "      <td>5</td>\n",
              "      <td>2010</td>\n",
              "      <td>1</td>\n",
              "      <td>1</td>\n",
              "      <td>4</td>\n",
              "      <td>98.613215</td>\n",
              "      <td>-20</td>\n",
              "      <td>-12.0</td>\n",
              "      <td>1018.0</td>\n",
              "      <td>NW</td>\n",
              "      <td>12.97</td>\n",
              "      <td>0</td>\n",
              "      <td>0</td>\n",
              "    </tr>\n",
              "    <tr>\n",
              "      <th>...</th>\n",
              "      <td>...</td>\n",
              "      <td>...</td>\n",
              "      <td>...</td>\n",
              "      <td>...</td>\n",
              "      <td>...</td>\n",
              "      <td>...</td>\n",
              "      <td>...</td>\n",
              "      <td>...</td>\n",
              "      <td>...</td>\n",
              "      <td>...</td>\n",
              "      <td>...</td>\n",
              "      <td>...</td>\n",
              "      <td>...</td>\n",
              "    </tr>\n",
              "    <tr>\n",
              "      <th>43819</th>\n",
              "      <td>43820</td>\n",
              "      <td>2014</td>\n",
              "      <td>12</td>\n",
              "      <td>31</td>\n",
              "      <td>19</td>\n",
              "      <td>8.000000</td>\n",
              "      <td>-23</td>\n",
              "      <td>-2.0</td>\n",
              "      <td>1034.0</td>\n",
              "      <td>NW</td>\n",
              "      <td>231.97</td>\n",
              "      <td>0</td>\n",
              "      <td>0</td>\n",
              "    </tr>\n",
              "    <tr>\n",
              "      <th>43820</th>\n",
              "      <td>43821</td>\n",
              "      <td>2014</td>\n",
              "      <td>12</td>\n",
              "      <td>31</td>\n",
              "      <td>20</td>\n",
              "      <td>10.000000</td>\n",
              "      <td>-22</td>\n",
              "      <td>-3.0</td>\n",
              "      <td>1034.0</td>\n",
              "      <td>NW</td>\n",
              "      <td>237.78</td>\n",
              "      <td>0</td>\n",
              "      <td>0</td>\n",
              "    </tr>\n",
              "    <tr>\n",
              "      <th>43821</th>\n",
              "      <td>43822</td>\n",
              "      <td>2014</td>\n",
              "      <td>12</td>\n",
              "      <td>31</td>\n",
              "      <td>21</td>\n",
              "      <td>10.000000</td>\n",
              "      <td>-22</td>\n",
              "      <td>-3.0</td>\n",
              "      <td>1034.0</td>\n",
              "      <td>NW</td>\n",
              "      <td>242.70</td>\n",
              "      <td>0</td>\n",
              "      <td>0</td>\n",
              "    </tr>\n",
              "    <tr>\n",
              "      <th>43822</th>\n",
              "      <td>43823</td>\n",
              "      <td>2014</td>\n",
              "      <td>12</td>\n",
              "      <td>31</td>\n",
              "      <td>22</td>\n",
              "      <td>8.000000</td>\n",
              "      <td>-22</td>\n",
              "      <td>-4.0</td>\n",
              "      <td>1034.0</td>\n",
              "      <td>NW</td>\n",
              "      <td>246.72</td>\n",
              "      <td>0</td>\n",
              "      <td>0</td>\n",
              "    </tr>\n",
              "    <tr>\n",
              "      <th>43823</th>\n",
              "      <td>43824</td>\n",
              "      <td>2014</td>\n",
              "      <td>12</td>\n",
              "      <td>31</td>\n",
              "      <td>23</td>\n",
              "      <td>12.000000</td>\n",
              "      <td>-21</td>\n",
              "      <td>-3.0</td>\n",
              "      <td>1034.0</td>\n",
              "      <td>NW</td>\n",
              "      <td>249.85</td>\n",
              "      <td>0</td>\n",
              "      <td>0</td>\n",
              "    </tr>\n",
              "  </tbody>\n",
              "</table>\n",
              "<p>43824 rows × 13 columns</p>\n",
              "</div>"
            ],
            "text/plain": [
              "          No  year  month  day  hour  ...    PRES  cbwd     Iws  Is Ir\n",
              "0          1  2010      1    1     0  ...  1021.0    NW    1.79   0  0\n",
              "1          2  2010      1    1     1  ...  1020.0    NW    4.92   0  0\n",
              "2          3  2010      1    1     2  ...  1019.0    NW    6.71   0  0\n",
              "3          4  2010      1    1     3  ...  1019.0    NW    9.84   0  0\n",
              "4          5  2010      1    1     4  ...  1018.0    NW   12.97   0  0\n",
              "...      ...   ...    ...  ...   ...  ...     ...   ...     ...  .. ..\n",
              "43819  43820  2014     12   31    19  ...  1034.0    NW  231.97   0  0\n",
              "43820  43821  2014     12   31    20  ...  1034.0    NW  237.78   0  0\n",
              "43821  43822  2014     12   31    21  ...  1034.0    NW  242.70   0  0\n",
              "43822  43823  2014     12   31    22  ...  1034.0    NW  246.72   0  0\n",
              "43823  43824  2014     12   31    23  ...  1034.0    NW  249.85   0  0\n",
              "\n",
              "[43824 rows x 13 columns]"
            ]
          },
          "metadata": {
            "tags": []
          },
          "execution_count": 182
        }
      ]
    },
    {
      "cell_type": "code",
      "metadata": {
        "id": "xNlWtjrQPYEO",
        "colab": {
          "base_uri": "https://localhost:8080/"
        },
        "outputId": "1e15edda-8894-441e-d2f5-c37bb72b9c25"
      },
      "source": [
        "PRSA['cbwd']=PRSA['cbwd'].astype('category')\n",
        "PRSA.info()"
      ],
      "execution_count": 183,
      "outputs": [
        {
          "output_type": "stream",
          "text": [
            "<class 'pandas.core.frame.DataFrame'>\n",
            "RangeIndex: 43824 entries, 0 to 43823\n",
            "Data columns (total 13 columns):\n",
            " #   Column  Non-Null Count  Dtype   \n",
            "---  ------  --------------  -----   \n",
            " 0   No      43824 non-null  int64   \n",
            " 1   year    43824 non-null  int64   \n",
            " 2   month   43824 non-null  int64   \n",
            " 3   day     43824 non-null  int64   \n",
            " 4   hour    43824 non-null  int64   \n",
            " 5   pm2.5   43824 non-null  float64 \n",
            " 6   DEWP    43824 non-null  int64   \n",
            " 7   TEMP    43824 non-null  float64 \n",
            " 8   PRES    43824 non-null  float64 \n",
            " 9   cbwd    43824 non-null  category\n",
            " 10  Iws     43824 non-null  float64 \n",
            " 11  Is      43824 non-null  int64   \n",
            " 12  Ir      43824 non-null  int64   \n",
            "dtypes: category(1), float64(4), int64(8)\n",
            "memory usage: 4.1 MB\n"
          ],
          "name": "stdout"
        }
      ]
    },
    {
      "cell_type": "code",
      "metadata": {
        "id": "05HVJ8o_Lz1q"
      },
      "source": [
        "PRSA = PRSA.drop(['No'],axis=1)"
      ],
      "execution_count": 184,
      "outputs": []
    },
    {
      "cell_type": "code",
      "metadata": {
        "id": "TBx7PohBn9UB",
        "colab": {
          "base_uri": "https://localhost:8080/",
          "height": 404
        },
        "outputId": "26abd337-58a6-4bd6-c30f-3f1824721bcb"
      },
      "source": [
        "from sklearn.preprocessing import LabelEncoder\n",
        "le = LabelEncoder()\n",
        "PRSA['cbwd']=le.fit_transform(PRSA['cbwd'])\n",
        "PRSA"
      ],
      "execution_count": 185,
      "outputs": [
        {
          "output_type": "execute_result",
          "data": {
            "text/html": [
              "<div>\n",
              "<style scoped>\n",
              "    .dataframe tbody tr th:only-of-type {\n",
              "        vertical-align: middle;\n",
              "    }\n",
              "\n",
              "    .dataframe tbody tr th {\n",
              "        vertical-align: top;\n",
              "    }\n",
              "\n",
              "    .dataframe thead th {\n",
              "        text-align: right;\n",
              "    }\n",
              "</style>\n",
              "<table border=\"1\" class=\"dataframe\">\n",
              "  <thead>\n",
              "    <tr style=\"text-align: right;\">\n",
              "      <th></th>\n",
              "      <th>year</th>\n",
              "      <th>month</th>\n",
              "      <th>day</th>\n",
              "      <th>hour</th>\n",
              "      <th>pm2.5</th>\n",
              "      <th>DEWP</th>\n",
              "      <th>TEMP</th>\n",
              "      <th>PRES</th>\n",
              "      <th>cbwd</th>\n",
              "      <th>Iws</th>\n",
              "      <th>Is</th>\n",
              "      <th>Ir</th>\n",
              "    </tr>\n",
              "  </thead>\n",
              "  <tbody>\n",
              "    <tr>\n",
              "      <th>0</th>\n",
              "      <td>2010</td>\n",
              "      <td>1</td>\n",
              "      <td>1</td>\n",
              "      <td>0</td>\n",
              "      <td>98.613215</td>\n",
              "      <td>-21</td>\n",
              "      <td>-11.0</td>\n",
              "      <td>1021.0</td>\n",
              "      <td>1</td>\n",
              "      <td>1.79</td>\n",
              "      <td>0</td>\n",
              "      <td>0</td>\n",
              "    </tr>\n",
              "    <tr>\n",
              "      <th>1</th>\n",
              "      <td>2010</td>\n",
              "      <td>1</td>\n",
              "      <td>1</td>\n",
              "      <td>1</td>\n",
              "      <td>98.613215</td>\n",
              "      <td>-21</td>\n",
              "      <td>-12.0</td>\n",
              "      <td>1020.0</td>\n",
              "      <td>1</td>\n",
              "      <td>4.92</td>\n",
              "      <td>0</td>\n",
              "      <td>0</td>\n",
              "    </tr>\n",
              "    <tr>\n",
              "      <th>2</th>\n",
              "      <td>2010</td>\n",
              "      <td>1</td>\n",
              "      <td>1</td>\n",
              "      <td>2</td>\n",
              "      <td>98.613215</td>\n",
              "      <td>-21</td>\n",
              "      <td>-11.0</td>\n",
              "      <td>1019.0</td>\n",
              "      <td>1</td>\n",
              "      <td>6.71</td>\n",
              "      <td>0</td>\n",
              "      <td>0</td>\n",
              "    </tr>\n",
              "    <tr>\n",
              "      <th>3</th>\n",
              "      <td>2010</td>\n",
              "      <td>1</td>\n",
              "      <td>1</td>\n",
              "      <td>3</td>\n",
              "      <td>98.613215</td>\n",
              "      <td>-21</td>\n",
              "      <td>-14.0</td>\n",
              "      <td>1019.0</td>\n",
              "      <td>1</td>\n",
              "      <td>9.84</td>\n",
              "      <td>0</td>\n",
              "      <td>0</td>\n",
              "    </tr>\n",
              "    <tr>\n",
              "      <th>4</th>\n",
              "      <td>2010</td>\n",
              "      <td>1</td>\n",
              "      <td>1</td>\n",
              "      <td>4</td>\n",
              "      <td>98.613215</td>\n",
              "      <td>-20</td>\n",
              "      <td>-12.0</td>\n",
              "      <td>1018.0</td>\n",
              "      <td>1</td>\n",
              "      <td>12.97</td>\n",
              "      <td>0</td>\n",
              "      <td>0</td>\n",
              "    </tr>\n",
              "    <tr>\n",
              "      <th>...</th>\n",
              "      <td>...</td>\n",
              "      <td>...</td>\n",
              "      <td>...</td>\n",
              "      <td>...</td>\n",
              "      <td>...</td>\n",
              "      <td>...</td>\n",
              "      <td>...</td>\n",
              "      <td>...</td>\n",
              "      <td>...</td>\n",
              "      <td>...</td>\n",
              "      <td>...</td>\n",
              "      <td>...</td>\n",
              "    </tr>\n",
              "    <tr>\n",
              "      <th>43819</th>\n",
              "      <td>2014</td>\n",
              "      <td>12</td>\n",
              "      <td>31</td>\n",
              "      <td>19</td>\n",
              "      <td>8.000000</td>\n",
              "      <td>-23</td>\n",
              "      <td>-2.0</td>\n",
              "      <td>1034.0</td>\n",
              "      <td>1</td>\n",
              "      <td>231.97</td>\n",
              "      <td>0</td>\n",
              "      <td>0</td>\n",
              "    </tr>\n",
              "    <tr>\n",
              "      <th>43820</th>\n",
              "      <td>2014</td>\n",
              "      <td>12</td>\n",
              "      <td>31</td>\n",
              "      <td>20</td>\n",
              "      <td>10.000000</td>\n",
              "      <td>-22</td>\n",
              "      <td>-3.0</td>\n",
              "      <td>1034.0</td>\n",
              "      <td>1</td>\n",
              "      <td>237.78</td>\n",
              "      <td>0</td>\n",
              "      <td>0</td>\n",
              "    </tr>\n",
              "    <tr>\n",
              "      <th>43821</th>\n",
              "      <td>2014</td>\n",
              "      <td>12</td>\n",
              "      <td>31</td>\n",
              "      <td>21</td>\n",
              "      <td>10.000000</td>\n",
              "      <td>-22</td>\n",
              "      <td>-3.0</td>\n",
              "      <td>1034.0</td>\n",
              "      <td>1</td>\n",
              "      <td>242.70</td>\n",
              "      <td>0</td>\n",
              "      <td>0</td>\n",
              "    </tr>\n",
              "    <tr>\n",
              "      <th>43822</th>\n",
              "      <td>2014</td>\n",
              "      <td>12</td>\n",
              "      <td>31</td>\n",
              "      <td>22</td>\n",
              "      <td>8.000000</td>\n",
              "      <td>-22</td>\n",
              "      <td>-4.0</td>\n",
              "      <td>1034.0</td>\n",
              "      <td>1</td>\n",
              "      <td>246.72</td>\n",
              "      <td>0</td>\n",
              "      <td>0</td>\n",
              "    </tr>\n",
              "    <tr>\n",
              "      <th>43823</th>\n",
              "      <td>2014</td>\n",
              "      <td>12</td>\n",
              "      <td>31</td>\n",
              "      <td>23</td>\n",
              "      <td>12.000000</td>\n",
              "      <td>-21</td>\n",
              "      <td>-3.0</td>\n",
              "      <td>1034.0</td>\n",
              "      <td>1</td>\n",
              "      <td>249.85</td>\n",
              "      <td>0</td>\n",
              "      <td>0</td>\n",
              "    </tr>\n",
              "  </tbody>\n",
              "</table>\n",
              "<p>43824 rows × 12 columns</p>\n",
              "</div>"
            ],
            "text/plain": [
              "       year  month  day  hour      pm2.5  ...    PRES  cbwd     Iws  Is  Ir\n",
              "0      2010      1    1     0  98.613215  ...  1021.0     1    1.79   0   0\n",
              "1      2010      1    1     1  98.613215  ...  1020.0     1    4.92   0   0\n",
              "2      2010      1    1     2  98.613215  ...  1019.0     1    6.71   0   0\n",
              "3      2010      1    1     3  98.613215  ...  1019.0     1    9.84   0   0\n",
              "4      2010      1    1     4  98.613215  ...  1018.0     1   12.97   0   0\n",
              "...     ...    ...  ...   ...        ...  ...     ...   ...     ...  ..  ..\n",
              "43819  2014     12   31    19   8.000000  ...  1034.0     1  231.97   0   0\n",
              "43820  2014     12   31    20  10.000000  ...  1034.0     1  237.78   0   0\n",
              "43821  2014     12   31    21  10.000000  ...  1034.0     1  242.70   0   0\n",
              "43822  2014     12   31    22   8.000000  ...  1034.0     1  246.72   0   0\n",
              "43823  2014     12   31    23  12.000000  ...  1034.0     1  249.85   0   0\n",
              "\n",
              "[43824 rows x 12 columns]"
            ]
          },
          "metadata": {
            "tags": []
          },
          "execution_count": 185
        }
      ]
    },
    {
      "cell_type": "code",
      "metadata": {
        "id": "xc-jRybmPbz1",
        "colab": {
          "base_uri": "https://localhost:8080/"
        },
        "outputId": "a0adebf1-1c11-4018-e2b8-76f31d5bc2b8"
      },
      "source": [
        "bins = [-1, 35, 75, 115, 150, 250, 994]\n",
        "\n",
        "binning = pd.cut(PRSA['pm2.5'], bins,labels=['excellent', 'good', 'light', 'moderate','heavy', 'severe']) \n",
        "print(pd.value_counts(binning))"
      ],
      "execution_count": 186,
      "outputs": [
        {
          "output_type": "stream",
          "text": [
            "excellent    12120\n",
            "good          9391\n",
            "light         9189\n",
            "heavy         5938\n",
            "moderate      4133\n",
            "severe        3053\n",
            "Name: pm2.5, dtype: int64\n"
          ],
          "name": "stdout"
        }
      ]
    },
    {
      "cell_type": "code",
      "metadata": {
        "id": "-aS2jNjkPb21",
        "colab": {
          "base_uri": "https://localhost:8080/",
          "height": 609
        },
        "outputId": "94a13894-f828-4d37-aac7-a331b6226f8e"
      },
      "source": [
        "binning.hist(figsize=(15,10))"
      ],
      "execution_count": 187,
      "outputs": [
        {
          "output_type": "execute_result",
          "data": {
            "text/plain": [
              "<matplotlib.axes._subplots.AxesSubplot at 0x7f38d6a70438>"
            ]
          },
          "metadata": {
            "tags": []
          },
          "execution_count": 187
        },
        {
          "output_type": "display_data",
          "data": {
            "image/png": "[encoded data removed]",
            "text/plain": [
              "<Figure size 1080x720 with 1 Axes>"
            ]
          },
          "metadata": {
            "tags": [],
            "needs_background": "light"
          }
        }
      ]
    },
    {
      "cell_type": "code",
      "metadata": {
        "colab": {
          "base_uri": "https://localhost:8080/",
          "height": 404
        },
        "id": "v7mOndLNWqJP",
        "outputId": "bdcae756-389a-49f4-e5f4-dca7d7bf55bd"
      },
      "source": [
        "PRSA"
      ],
      "execution_count": 188,
      "outputs": [
        {
          "output_type": "execute_result",
          "data": {
            "text/html": [
              "<div>\n",
              "<style scoped>\n",
              "    .dataframe tbody tr th:only-of-type {\n",
              "        vertical-align: middle;\n",
              "    }\n",
              "\n",
              "    .dataframe tbody tr th {\n",
              "        vertical-align: top;\n",
              "    }\n",
              "\n",
              "    .dataframe thead th {\n",
              "        text-align: right;\n",
              "    }\n",
              "</style>\n",
              "<table border=\"1\" class=\"dataframe\">\n",
              "  <thead>\n",
              "    <tr style=\"text-align: right;\">\n",
              "      <th></th>\n",
              "      <th>year</th>\n",
              "      <th>month</th>\n",
              "      <th>day</th>\n",
              "      <th>hour</th>\n",
              "      <th>pm2.5</th>\n",
              "      <th>DEWP</th>\n",
              "      <th>TEMP</th>\n",
              "      <th>PRES</th>\n",
              "      <th>cbwd</th>\n",
              "      <th>Iws</th>\n",
              "      <th>Is</th>\n",
              "      <th>Ir</th>\n",
              "    </tr>\n",
              "  </thead>\n",
              "  <tbody>\n",
              "    <tr>\n",
              "      <th>0</th>\n",
              "      <td>2010</td>\n",
              "      <td>1</td>\n",
              "      <td>1</td>\n",
              "      <td>0</td>\n",
              "      <td>98.613215</td>\n",
              "      <td>-21</td>\n",
              "      <td>-11.0</td>\n",
              "      <td>1021.0</td>\n",
              "      <td>1</td>\n",
              "      <td>1.79</td>\n",
              "      <td>0</td>\n",
              "      <td>0</td>\n",
              "    </tr>\n",
              "    <tr>\n",
              "      <th>1</th>\n",
              "      <td>2010</td>\n",
              "      <td>1</td>\n",
              "      <td>1</td>\n",
              "      <td>1</td>\n",
              "      <td>98.613215</td>\n",
              "      <td>-21</td>\n",
              "      <td>-12.0</td>\n",
              "      <td>1020.0</td>\n",
              "      <td>1</td>\n",
              "      <td>4.92</td>\n",
              "      <td>0</td>\n",
              "      <td>0</td>\n",
              "    </tr>\n",
              "    <tr>\n",
              "      <th>2</th>\n",
              "      <td>2010</td>\n",
              "      <td>1</td>\n",
              "      <td>1</td>\n",
              "      <td>2</td>\n",
              "      <td>98.613215</td>\n",
              "      <td>-21</td>\n",
              "      <td>-11.0</td>\n",
              "      <td>1019.0</td>\n",
              "      <td>1</td>\n",
              "      <td>6.71</td>\n",
              "      <td>0</td>\n",
              "      <td>0</td>\n",
              "    </tr>\n",
              "    <tr>\n",
              "      <th>3</th>\n",
              "      <td>2010</td>\n",
              "      <td>1</td>\n",
              "      <td>1</td>\n",
              "      <td>3</td>\n",
              "      <td>98.613215</td>\n",
              "      <td>-21</td>\n",
              "      <td>-14.0</td>\n",
              "      <td>1019.0</td>\n",
              "      <td>1</td>\n",
              "      <td>9.84</td>\n",
              "      <td>0</td>\n",
              "      <td>0</td>\n",
              "    </tr>\n",
              "    <tr>\n",
              "      <th>4</th>\n",
              "      <td>2010</td>\n",
              "      <td>1</td>\n",
              "      <td>1</td>\n",
              "      <td>4</td>\n",
              "      <td>98.613215</td>\n",
              "      <td>-20</td>\n",
              "      <td>-12.0</td>\n",
              "      <td>1018.0</td>\n",
              "      <td>1</td>\n",
              "      <td>12.97</td>\n",
              "      <td>0</td>\n",
              "      <td>0</td>\n",
              "    </tr>\n",
              "    <tr>\n",
              "      <th>...</th>\n",
              "      <td>...</td>\n",
              "      <td>...</td>\n",
              "      <td>...</td>\n",
              "      <td>...</td>\n",
              "      <td>...</td>\n",
              "      <td>...</td>\n",
              "      <td>...</td>\n",
              "      <td>...</td>\n",
              "      <td>...</td>\n",
              "      <td>...</td>\n",
              "      <td>...</td>\n",
              "      <td>...</td>\n",
              "    </tr>\n",
              "    <tr>\n",
              "      <th>43819</th>\n",
              "      <td>2014</td>\n",
              "      <td>12</td>\n",
              "      <td>31</td>\n",
              "      <td>19</td>\n",
              "      <td>8.000000</td>\n",
              "      <td>-23</td>\n",
              "      <td>-2.0</td>\n",
              "      <td>1034.0</td>\n",
              "      <td>1</td>\n",
              "      <td>231.97</td>\n",
              "      <td>0</td>\n",
              "      <td>0</td>\n",
              "    </tr>\n",
              "    <tr>\n",
              "      <th>43820</th>\n",
              "      <td>2014</td>\n",
              "      <td>12</td>\n",
              "      <td>31</td>\n",
              "      <td>20</td>\n",
              "      <td>10.000000</td>\n",
              "      <td>-22</td>\n",
              "      <td>-3.0</td>\n",
              "      <td>1034.0</td>\n",
              "      <td>1</td>\n",
              "      <td>237.78</td>\n",
              "      <td>0</td>\n",
              "      <td>0</td>\n",
              "    </tr>\n",
              "    <tr>\n",
              "      <th>43821</th>\n",
              "      <td>2014</td>\n",
              "      <td>12</td>\n",
              "      <td>31</td>\n",
              "      <td>21</td>\n",
              "      <td>10.000000</td>\n",
              "      <td>-22</td>\n",
              "      <td>-3.0</td>\n",
              "      <td>1034.0</td>\n",
              "      <td>1</td>\n",
              "      <td>242.70</td>\n",
              "      <td>0</td>\n",
              "      <td>0</td>\n",
              "    </tr>\n",
              "    <tr>\n",
              "      <th>43822</th>\n",
              "      <td>2014</td>\n",
              "      <td>12</td>\n",
              "      <td>31</td>\n",
              "      <td>22</td>\n",
              "      <td>8.000000</td>\n",
              "      <td>-22</td>\n",
              "      <td>-4.0</td>\n",
              "      <td>1034.0</td>\n",
              "      <td>1</td>\n",
              "      <td>246.72</td>\n",
              "      <td>0</td>\n",
              "      <td>0</td>\n",
              "    </tr>\n",
              "    <tr>\n",
              "      <th>43823</th>\n",
              "      <td>2014</td>\n",
              "      <td>12</td>\n",
              "      <td>31</td>\n",
              "      <td>23</td>\n",
              "      <td>12.000000</td>\n",
              "      <td>-21</td>\n",
              "      <td>-3.0</td>\n",
              "      <td>1034.0</td>\n",
              "      <td>1</td>\n",
              "      <td>249.85</td>\n",
              "      <td>0</td>\n",
              "      <td>0</td>\n",
              "    </tr>\n",
              "  </tbody>\n",
              "</table>\n",
              "<p>43824 rows × 12 columns</p>\n",
              "</div>"
            ],
            "text/plain": [
              "       year  month  day  hour      pm2.5  ...    PRES  cbwd     Iws  Is  Ir\n",
              "0      2010      1    1     0  98.613215  ...  1021.0     1    1.79   0   0\n",
              "1      2010      1    1     1  98.613215  ...  1020.0     1    4.92   0   0\n",
              "2      2010      1    1     2  98.613215  ...  1019.0     1    6.71   0   0\n",
              "3      2010      1    1     3  98.613215  ...  1019.0     1    9.84   0   0\n",
              "4      2010      1    1     4  98.613215  ...  1018.0     1   12.97   0   0\n",
              "...     ...    ...  ...   ...        ...  ...     ...   ...     ...  ..  ..\n",
              "43819  2014     12   31    19   8.000000  ...  1034.0     1  231.97   0   0\n",
              "43820  2014     12   31    20  10.000000  ...  1034.0     1  237.78   0   0\n",
              "43821  2014     12   31    21  10.000000  ...  1034.0     1  242.70   0   0\n",
              "43822  2014     12   31    22   8.000000  ...  1034.0     1  246.72   0   0\n",
              "43823  2014     12   31    23  12.000000  ...  1034.0     1  249.85   0   0\n",
              "\n",
              "[43824 rows x 12 columns]"
            ]
          },
          "metadata": {
            "tags": []
          },
          "execution_count": 188
        }
      ]
    },
    {
      "cell_type": "code",
      "metadata": {
        "id": "6DU5qjogquXU",
        "colab": {
          "base_uri": "https://localhost:8080/",
          "height": 52
        },
        "outputId": "4f08115e-11a4-4fcb-8c3a-847e5140cc97"
      },
      "source": [
        "\"\"\"\n",
        "from sklearn.preprocessing import StandardScaler\n",
        "col_names=['DEWP','TEMP','PRES','Iws','Is','Ir']\n",
        "scaler=StandardScaler().fit(PRSA[col_names].values)\n",
        "PRSA[col_names]=scaler.transform(PRSA[col_names].values)\n",
        "PRSA\n",
        "\"\"\""
      ],
      "execution_count": 189,
      "outputs": [
        {
          "output_type": "execute_result",
          "data": {
            "application/vnd.google.colaboratory.intrinsic+json": {
              "type": "string"
            },
            "text/plain": [
              "\"\\nfrom sklearn.preprocessing import StandardScaler\\ncol_names=['DEWP','TEMP','PRES','Iws','Is','Ir']\\nscaler=StandardScaler().fit(PRSA[col_names].values)\\nPRSA[col_names]=scaler.transform(PRSA[col_names].values)\\nPRSA\\n\""
            ]
          },
          "metadata": {
            "tags": []
          },
          "execution_count": 189
        }
      ]
    },
    {
      "cell_type": "code",
      "metadata": {
        "id": "bASl99Osq9uX",
        "colab": {
          "base_uri": "https://localhost:8080/",
          "height": 404
        },
        "outputId": "fe9f3624-ab32-493a-9394-17f42ffafbcd"
      },
      "source": [
        "from sklearn.preprocessing import Normalizer\n",
        "col_names=['pm2.5','DEWP','TEMP','PRES','Iws','Is','Ir']\n",
        "features=PRSA[col_names]\n",
        "normalizer=Normalizer(norm='max')\n",
        "features=normalizer.transform(features.values)\n",
        "PRSA[col_names]=features\n",
        "PRSA"
      ],
      "execution_count": 190,
      "outputs": [
        {
          "output_type": "execute_result",
          "data": {
            "text/html": [
              "<div>\n",
              "<style scoped>\n",
              "    .dataframe tbody tr th:only-of-type {\n",
              "        vertical-align: middle;\n",
              "    }\n",
              "\n",
              "    .dataframe tbody tr th {\n",
              "        vertical-align: top;\n",
              "    }\n",
              "\n",
              "    .dataframe thead th {\n",
              "        text-align: right;\n",
              "    }\n",
              "</style>\n",
              "<table border=\"1\" class=\"dataframe\">\n",
              "  <thead>\n",
              "    <tr style=\"text-align: right;\">\n",
              "      <th></th>\n",
              "      <th>year</th>\n",
              "      <th>month</th>\n",
              "      <th>day</th>\n",
              "      <th>hour</th>\n",
              "      <th>pm2.5</th>\n",
              "      <th>DEWP</th>\n",
              "      <th>TEMP</th>\n",
              "      <th>PRES</th>\n",
              "      <th>cbwd</th>\n",
              "      <th>Iws</th>\n",
              "      <th>Is</th>\n",
              "      <th>Ir</th>\n",
              "    </tr>\n",
              "  </thead>\n",
              "  <tbody>\n",
              "    <tr>\n",
              "      <th>0</th>\n",
              "      <td>2010</td>\n",
              "      <td>1</td>\n",
              "      <td>1</td>\n",
              "      <td>0</td>\n",
              "      <td>0.096585</td>\n",
              "      <td>-0.020568</td>\n",
              "      <td>-0.010774</td>\n",
              "      <td>1.0</td>\n",
              "      <td>1</td>\n",
              "      <td>0.001753</td>\n",
              "      <td>0.0</td>\n",
              "      <td>0.0</td>\n",
              "    </tr>\n",
              "    <tr>\n",
              "      <th>1</th>\n",
              "      <td>2010</td>\n",
              "      <td>1</td>\n",
              "      <td>1</td>\n",
              "      <td>1</td>\n",
              "      <td>0.096680</td>\n",
              "      <td>-0.020588</td>\n",
              "      <td>-0.011765</td>\n",
              "      <td>1.0</td>\n",
              "      <td>1</td>\n",
              "      <td>0.004824</td>\n",
              "      <td>0.0</td>\n",
              "      <td>0.0</td>\n",
              "    </tr>\n",
              "    <tr>\n",
              "      <th>2</th>\n",
              "      <td>2010</td>\n",
              "      <td>1</td>\n",
              "      <td>1</td>\n",
              "      <td>2</td>\n",
              "      <td>0.096774</td>\n",
              "      <td>-0.020608</td>\n",
              "      <td>-0.010795</td>\n",
              "      <td>1.0</td>\n",
              "      <td>1</td>\n",
              "      <td>0.006585</td>\n",
              "      <td>0.0</td>\n",
              "      <td>0.0</td>\n",
              "    </tr>\n",
              "    <tr>\n",
              "      <th>3</th>\n",
              "      <td>2010</td>\n",
              "      <td>1</td>\n",
              "      <td>1</td>\n",
              "      <td>3</td>\n",
              "      <td>0.096774</td>\n",
              "      <td>-0.020608</td>\n",
              "      <td>-0.013739</td>\n",
              "      <td>1.0</td>\n",
              "      <td>1</td>\n",
              "      <td>0.009657</td>\n",
              "      <td>0.0</td>\n",
              "      <td>0.0</td>\n",
              "    </tr>\n",
              "    <tr>\n",
              "      <th>4</th>\n",
              "      <td>2010</td>\n",
              "      <td>1</td>\n",
              "      <td>1</td>\n",
              "      <td>4</td>\n",
              "      <td>0.096870</td>\n",
              "      <td>-0.019646</td>\n",
              "      <td>-0.011788</td>\n",
              "      <td>1.0</td>\n",
              "      <td>1</td>\n",
              "      <td>0.012741</td>\n",
              "      <td>0.0</td>\n",
              "      <td>0.0</td>\n",
              "    </tr>\n",
              "    <tr>\n",
              "      <th>...</th>\n",
              "      <td>...</td>\n",
              "      <td>...</td>\n",
              "      <td>...</td>\n",
              "      <td>...</td>\n",
              "      <td>...</td>\n",
              "      <td>...</td>\n",
              "      <td>...</td>\n",
              "      <td>...</td>\n",
              "      <td>...</td>\n",
              "      <td>...</td>\n",
              "      <td>...</td>\n",
              "      <td>...</td>\n",
              "    </tr>\n",
              "    <tr>\n",
              "      <th>43819</th>\n",
              "      <td>2014</td>\n",
              "      <td>12</td>\n",
              "      <td>31</td>\n",
              "      <td>19</td>\n",
              "      <td>0.007737</td>\n",
              "      <td>-0.022244</td>\n",
              "      <td>-0.001934</td>\n",
              "      <td>1.0</td>\n",
              "      <td>1</td>\n",
              "      <td>0.224342</td>\n",
              "      <td>0.0</td>\n",
              "      <td>0.0</td>\n",
              "    </tr>\n",
              "    <tr>\n",
              "      <th>43820</th>\n",
              "      <td>2014</td>\n",
              "      <td>12</td>\n",
              "      <td>31</td>\n",
              "      <td>20</td>\n",
              "      <td>0.009671</td>\n",
              "      <td>-0.021277</td>\n",
              "      <td>-0.002901</td>\n",
              "      <td>1.0</td>\n",
              "      <td>1</td>\n",
              "      <td>0.229961</td>\n",
              "      <td>0.0</td>\n",
              "      <td>0.0</td>\n",
              "    </tr>\n",
              "    <tr>\n",
              "      <th>43821</th>\n",
              "      <td>2014</td>\n",
              "      <td>12</td>\n",
              "      <td>31</td>\n",
              "      <td>21</td>\n",
              "      <td>0.009671</td>\n",
              "      <td>-0.021277</td>\n",
              "      <td>-0.002901</td>\n",
              "      <td>1.0</td>\n",
              "      <td>1</td>\n",
              "      <td>0.234720</td>\n",
              "      <td>0.0</td>\n",
              "      <td>0.0</td>\n",
              "    </tr>\n",
              "    <tr>\n",
              "      <th>43822</th>\n",
              "      <td>2014</td>\n",
              "      <td>12</td>\n",
              "      <td>31</td>\n",
              "      <td>22</td>\n",
              "      <td>0.007737</td>\n",
              "      <td>-0.021277</td>\n",
              "      <td>-0.003868</td>\n",
              "      <td>1.0</td>\n",
              "      <td>1</td>\n",
              "      <td>0.238607</td>\n",
              "      <td>0.0</td>\n",
              "      <td>0.0</td>\n",
              "    </tr>\n",
              "    <tr>\n",
              "      <th>43823</th>\n",
              "      <td>2014</td>\n",
              "      <td>12</td>\n",
              "      <td>31</td>\n",
              "      <td>23</td>\n",
              "      <td>0.011605</td>\n",
              "      <td>-0.020309</td>\n",
              "      <td>-0.002901</td>\n",
              "      <td>1.0</td>\n",
              "      <td>1</td>\n",
              "      <td>0.241634</td>\n",
              "      <td>0.0</td>\n",
              "      <td>0.0</td>\n",
              "    </tr>\n",
              "  </tbody>\n",
              "</table>\n",
              "<p>43824 rows × 12 columns</p>\n",
              "</div>"
            ],
            "text/plain": [
              "       year  month  day  hour     pm2.5  ...  PRES  cbwd       Iws   Is   Ir\n",
              "0      2010      1    1     0  0.096585  ...   1.0     1  0.001753  0.0  0.0\n",
              "1      2010      1    1     1  0.096680  ...   1.0     1  0.004824  0.0  0.0\n",
              "2      2010      1    1     2  0.096774  ...   1.0     1  0.006585  0.0  0.0\n",
              "3      2010      1    1     3  0.096774  ...   1.0     1  0.009657  0.0  0.0\n",
              "4      2010      1    1     4  0.096870  ...   1.0     1  0.012741  0.0  0.0\n",
              "...     ...    ...  ...   ...       ...  ...   ...   ...       ...  ...  ...\n",
              "43819  2014     12   31    19  0.007737  ...   1.0     1  0.224342  0.0  0.0\n",
              "43820  2014     12   31    20  0.009671  ...   1.0     1  0.229961  0.0  0.0\n",
              "43821  2014     12   31    21  0.009671  ...   1.0     1  0.234720  0.0  0.0\n",
              "43822  2014     12   31    22  0.007737  ...   1.0     1  0.238607  0.0  0.0\n",
              "43823  2014     12   31    23  0.011605  ...   1.0     1  0.241634  0.0  0.0\n",
              "\n",
              "[43824 rows x 12 columns]"
            ]
          },
          "metadata": {
            "tags": []
          },
          "execution_count": 190
        }
      ]
    },
    {
      "cell_type": "code",
      "metadata": {
        "id": "ZFMJAj5tzXdS",
        "colab": {
          "base_uri": "https://localhost:8080/"
        },
        "outputId": "e3acc07d-00a5-477b-8b17-67b5db19cbf6"
      },
      "source": [
        "import pandas as pd\n",
        "from sklearn.model_selection import train_test_split\n",
        "#split data into train and test sets\n",
        "X=PRSA.drop(['pm2.5'],axis=1)\n",
        "y=binning\n",
        "\n",
        "X_train,X_test,y_train,y_test=train_test_split(X,y,test_size=0.2,random_state=100)\n",
        "list1=[X_train,X_test,y_train,y_test]\n",
        "print(list1)"
      ],
      "execution_count": 195,
      "outputs": [
        {
          "output_type": "stream",
          "text": [
            "[       year  month  day  hour      DEWP  ...  PRES  cbwd       Iws   Is        Ir\n",
            "36709  2014      3   10    13 -0.007820  ...   1.0     2  0.001750  0.0  0.000000\n",
            "14327  2011      8   20    23  0.019763  ...   1.0     2  0.001769  0.0  0.000000\n",
            "18119  2012      1   25    23 -0.017613  ...   1.0     3  0.000871  0.0  0.000000\n",
            "15430  2011     10    5    22  0.003941  ...   1.0     0  0.003961  0.0  0.000000\n",
            "23970  2012      9   25    18  0.013739  ...   1.0     0  0.004828  0.0  0.002944\n",
            "...     ...    ...  ...   ...       ...  ...   ...   ...       ...  ...       ...\n",
            "16304  2011     11   11     8 -0.000984  ...   1.0     1  0.003081  0.0  0.000000\n",
            "79     2010      1    4     7 -0.020448  ...   1.0     1  0.071811  0.0  0.000000\n",
            "12119  2011      5   20    23 -0.001970  ...   1.0     2  0.014099  0.0  0.000000\n",
            "14147  2011      8   13    11  0.025000  ...   1.0     2  0.026840  0.0  0.000000\n",
            "38408  2014      5   20     8  0.007960  ...   1.0     0  0.018687  0.0  0.000000\n",
            "\n",
            "[35059 rows x 11 columns],        year  month  day  hour      DEWP  ...  PRES  cbwd       Iws   Is   Ir\n",
            "39812  2014      7   17    20  0.021869  ...   1.0     3  0.003539  0.0  0.0\n",
            "29742  2013      5   24     6  0.015842  ...   1.0     1  0.003099  0.0  0.0\n",
            "24121  2012     10    2     1  0.009843  ...   1.0     1  0.001762  0.0  0.0\n",
            "20281  2012      4   25     1  0.005958  ...   1.0     1  0.076792  0.0  0.0\n",
            "5334   2010      8   11     6  0.021891  ...   1.0     2  0.010687  0.0  0.0\n",
            "...     ...    ...  ...   ...       ...  ...   ...   ...       ...  ...  ...\n",
            "17025  2011     12   11     9 -0.005842  ...   1.0     1  0.003486  0.0  0.0\n",
            "41309  2014      9   18     5  0.010774  ...   1.0     1  0.007003  0.0  0.0\n",
            "3550   2010      5   28    22  0.015857  ...   1.0     2  0.004876  0.0  0.0\n",
            "9311   2011      1   23    23 -0.020309  ...   1.0     1  0.247311  0.0  0.0\n",
            "5694   2010      8   26     6  0.016749  ...   1.0     1  0.012335  0.0  0.0\n",
            "\n",
            "[8765 rows x 11 columns], 36709        light\n",
            "14327         good\n",
            "18119        heavy\n",
            "15430        light\n",
            "23970    excellent\n",
            "           ...    \n",
            "16304        light\n",
            "79       excellent\n",
            "12119    excellent\n",
            "14147     moderate\n",
            "38408         good\n",
            "Name: pm2.5, Length: 35059, dtype: category\n",
            "Categories (6, object): ['excellent' < 'good' < 'light' < 'moderate' < 'heavy' < 'severe'], 39812        heavy\n",
            "29742        heavy\n",
            "24121        light\n",
            "20281    excellent\n",
            "5334         light\n",
            "           ...    \n",
            "17025        heavy\n",
            "41309        light\n",
            "3550         heavy\n",
            "9311     excellent\n",
            "5694         light\n",
            "Name: pm2.5, Length: 8765, dtype: category\n",
            "Categories (6, object): ['excellent' < 'good' < 'light' < 'moderate' < 'heavy' < 'severe']]\n"
          ],
          "name": "stdout"
        }
      ]
    }
  ]
}